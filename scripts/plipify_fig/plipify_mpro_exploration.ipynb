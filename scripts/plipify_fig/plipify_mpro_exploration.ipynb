{
 "cells": [
  {
   "cell_type": "markdown",
   "metadata": {
    "collapsed": true
   },
   "source": [
    "# Imports"
   ]
  },
  {
   "cell_type": "code",
   "execution_count": 1,
   "metadata": {},
   "outputs": [
    {
     "data": {
      "text/plain": "",
      "application/vnd.jupyter.widget-view+json": {
       "version_major": 2,
       "version_minor": 0,
       "model_id": "7f7537607e924179a998c7dc19182994"
      }
     },
     "metadata": {},
     "output_type": "display_data"
    }
   ],
   "source": [
    "from glob import glob\n",
    "from pathlib import Path\n",
    "import shutil\n",
    "from tqdm import tqdm\n",
    "import os\n",
    "import numpy as np\n",
    "import plotly.express as px\n",
    "\n",
    "from io import BytesIO\n",
    "from zipfile import ZipFile\n",
    "from subprocess import call, STDOUT\n",
    "from urllib.request import urlopen\n",
    "\n",
    "\n",
    "import requests\n",
    "from matplotlib import cm, colors\n",
    "from IPython.display import Image\n",
    "import pandas as pd\n",
    "from rdkit.Chem.PandasTools import AddMoleculeColumnToFrame\n",
    "from Bio.PDB import PDBParser, PDBIO\n",
    "import nglview as nv\n",
    "\n",
    "from plipify.fingerprints import InteractionFingerprint\n",
    "from plipify.visualization import (\n",
    "    fingerprint_barplot, fingerprint_heatmap, fingerprint_table, \n",
    "    fingerprint_nglview, PymolVisualizer, nglview_color_side_chains_by_frequency,\n",
    "    fingerprint_writepdb\n",
    ")\n",
    "from plipify.core import Structure"
   ]
  },
  {
   "cell_type": "code",
   "execution_count": 9,
   "metadata": {},
   "outputs": [],
   "source": [
    "import importlib"
   ]
  },
  {
   "cell_type": "code",
   "execution_count": 10,
   "metadata": {},
   "outputs": [
    {
     "data": {
      "text/plain": [
       "<module 'plotly.express' from '/Users/alexpayne/opt/anaconda3/envs/plipify/lib/python3.8/site-packages/plotly/express/__init__.py'>"
      ]
     },
     "execution_count": 10,
     "metadata": {},
     "output_type": "execute_result"
    }
   ],
   "source": [
    "importlib.reload(px)"
   ]
  },
  {
   "cell_type": "markdown",
   "metadata": {},
   "source": [
    "## paths"
   ]
  },
  {
   "cell_type": "code",
   "execution_count": 12,
   "metadata": {},
   "outputs": [],
   "source": [
    "# input_glob = \"/Volumes/Rohirrim/local_test/full_frag_prepped_mpro_20221219/*/prepped_receptor_0.pdb\"\n",
    "# input_glob = \"/Volumes/Rohirrim/local_test/full_frag_prepped_mpro_20221219/*/prepped_receptor_0.pdb\"\n",
    "# output_path = Path(\"/Volumes/Rohirrim/local_test/plipify_result\")\n",
    "output_path = Path(\"/Volumes/Rohirrim/local_test/plipify_result_v2\")\n",
    "if not output_path.exists():\n",
    "    Path.mkdir(output_path)"
   ]
  },
  {
   "cell_type": "code",
   "execution_count": 13,
   "metadata": {},
   "outputs": [],
   "source": [
    "plipify_results_path = output_path / 'plipify_results.csv'"
   ]
  },
  {
   "cell_type": "markdown",
   "metadata": {},
   "source": [
    "## pocket definitions"
   ]
  },
  {
   "cell_type": "code",
   "execution_count": 14,
   "metadata": {},
   "outputs": [],
   "source": [
    "pocket_definitions = {'P1': np.array([140,\n",
    "                             141,\n",
    "                             142,\n",
    "                             143,\n",
    "                             144,\n",
    "                             145,\n",
    "                             163,\n",
    "                                      164,\n",
    "                             172]),\n",
    "                      'P1_prime': np.array([25,26,27]),\n",
    "                      'P2': np.array([41,49,54, 187]),\n",
    "                      'P3_4_5': np.array([165,166,167,168,189,190,191,192])}"
   ]
  },
  {
   "cell_type": "markdown",
   "metadata": {},
   "source": [
    "# Load Structures"
   ]
  },
  {
   "cell_type": "code",
   "execution_count": null,
   "metadata": {},
   "outputs": [],
   "source": [
    "structure_paths = [Path(fn) for fn in glob(input_glob)]\n",
    "# structure_paths = structure_paths[0:10]\n",
    "print(len(structure_paths))"
   ]
  },
  {
   "cell_type": "code",
   "execution_count": null,
   "metadata": {},
   "outputs": [],
   "source": [
    "mypath = structure_paths[0]"
   ]
  },
  {
   "cell_type": "code",
   "execution_count": null,
   "metadata": {},
   "outputs": [],
   "source": [
    "mypath.parent.name"
   ]
  },
  {
   "cell_type": "markdown",
   "metadata": {},
   "source": [
    "## make new protein fns and load"
   ]
  },
  {
   "cell_type": "code",
   "execution_count": null,
   "metadata": {},
   "outputs": [],
   "source": [
    "new_paths = [structure_path.with_name(structure_path.parent.name).with_suffix(structure_path.suffix) for structure_path in structure_paths]\n",
    "print(len(new_paths))"
   ]
  },
  {
   "cell_type": "code",
   "execution_count": null,
   "metadata": {},
   "outputs": [],
   "source": [
    "## make new filenames and load structure objects\n",
    "structures = []\n",
    "for structure_path, new_path in tqdm(zip(structure_paths, new_paths), total=len(structure_paths)):\n",
    "    if not new_path.exists():\n",
    "        shutil.copy(structure_path, new_path)\n",
    "    structures.append(Structure.from_pdbfile(str(new_path), ligand_name=\"LIG\"))\n",
    "print(f\"Loaded {len(structures)} structures.\")"
   ]
  },
  {
   "cell_type": "markdown",
   "metadata": {},
   "source": [
    "# Calculate Fingerprint"
   ]
  },
  {
   "cell_type": "code",
   "execution_count": null,
   "metadata": {},
   "outputs": [],
   "source": [
    "## A bunch of filtering\n",
    "lengths = pd.DataFrame([((s.identifier), len(s.sequence())) for s in structures], columns=[\"identifier\", \"length\"])\n",
    "# Remove entries where the difference sequence length - median sequence length is greater than one standard deviation\n",
    "print('Sequence length median and std: ', lengths.length.median(), lengths.length.std())"
   ]
  },
  {
   "cell_type": "code",
   "execution_count": null,
   "metadata": {},
   "outputs": [],
   "source": [
    "lengths = lengths[(lengths.length - lengths.length.median()).abs() < lengths.length.std()]\n",
    "filtered_structures = [s for s in structures if s.identifier in set(lengths.identifier.tolist())]\n",
    "print(len(structure_fns), \"->\", len(structures), \"->\", len(filtered_structures), \"=\", len(structure_fns) - len(filtered_structures),\n",
    "      \"structures filtered out\")\n",
    "\n",
    "structure_name_type_dict = {'Mpro-P': 0, 'Mpro-x': 0, 'Mpro-z': 0, 'other': 0}\n",
    "print(structure_name_type_dict.keys())\n",
    "for s in structures:\n",
    "    name_code = s.identifier[0:6]\n",
    "    print(name_code)\n",
    "    if name_code in structure_name_type_dict.keys():\n",
    "        structure_name_type_dict[name_code] += 1\n",
    "    else:\n",
    "        structure_name_type_dict['other'] += 1\n",
    "print(structure_name_type_dict)"
   ]
  },
  {
   "cell_type": "code",
   "execution_count": null,
   "metadata": {},
   "outputs": [],
   "source": [
    "# Review\n",
    "fp = InteractionFingerprint().calculate_fingerprint(\n",
    "    filtered_structures,\n",
    "    labeled=True,\n",
    "    as_dataframe=True,\n",
    "    remove_non_interacting_residues=True,\n",
    "    remove_empty_interaction_types=True,\n",
    "    ensure_same_sequence=False\n",
    ")"
   ]
  },
  {
   "cell_type": "markdown",
   "metadata": {},
   "source": [
    "## filter results"
   ]
  },
  {
   "cell_type": "code",
   "execution_count": null,
   "metadata": {},
   "outputs": [],
   "source": [
    "# filter out some of the low counts\n",
    "fp_focused = fp[fp.sum(axis=1) > 5]"
   ]
  },
  {
   "cell_type": "markdown",
   "metadata": {},
   "source": [
    "## write out csv file"
   ]
  },
  {
   "cell_type": "code",
   "execution_count": null,
   "metadata": {},
   "outputs": [],
   "source": [
    "fp_focused.to_csv(plipify_results_path)"
   ]
  },
  {
   "cell_type": "code",
   "execution_count": 26,
   "metadata": {},
   "outputs": [],
   "source": [
    "fp_focused = pd.read_csv(plipify_results_path, index_col=0)"
   ]
  },
  {
   "cell_type": "code",
   "execution_count": 27,
   "metadata": {},
   "outputs": [
    {
     "data": {
      "text/plain": [
       "pandas.core.frame.DataFrame"
      ]
     },
     "execution_count": 27,
     "metadata": {},
     "output_type": "execute_result"
    }
   ],
   "source": [
    "type(fp_focused)"
   ]
  },
  {
   "cell_type": "code",
   "execution_count": 28,
   "metadata": {},
   "outputs": [
    {
     "data": {
      "text/html": [
       "<style type=\"text/css\">\n",
       "#T_f2414_row0_col0, #T_f2414_row6_col1, #T_f2414_row12_col2 {\n",
       "  background-color: #edf8b1;\n",
       "  color: #000000;\n",
       "}\n",
       "#T_f2414_row0_col1, #T_f2414_row0_col2, #T_f2414_row0_col3, #T_f2414_row0_col4, #T_f2414_row2_col0, #T_f2414_row2_col1, #T_f2414_row2_col3, #T_f2414_row2_col4, #T_f2414_row3_col1, #T_f2414_row3_col2, #T_f2414_row3_col3, #T_f2414_row3_col4, #T_f2414_row4_col1, #T_f2414_row4_col2, #T_f2414_row4_col3, #T_f2414_row4_col4, #T_f2414_row5_col0, #T_f2414_row5_col1, #T_f2414_row5_col3, #T_f2414_row5_col4, #T_f2414_row6_col3, #T_f2414_row6_col4, #T_f2414_row7_col0, #T_f2414_row7_col3, #T_f2414_row7_col4, #T_f2414_row8_col0, #T_f2414_row8_col2, #T_f2414_row8_col3, #T_f2414_row8_col4, #T_f2414_row9_col0, #T_f2414_row9_col2, #T_f2414_row9_col3, #T_f2414_row9_col4, #T_f2414_row10_col0, #T_f2414_row10_col2, #T_f2414_row10_col3, #T_f2414_row10_col4, #T_f2414_row11_col1, #T_f2414_row11_col2, #T_f2414_row11_col3, #T_f2414_row11_col4, #T_f2414_row12_col3, #T_f2414_row12_col4, #T_f2414_row13_col0, #T_f2414_row13_col1, #T_f2414_row13_col3, #T_f2414_row13_col4, #T_f2414_row14_col1, #T_f2414_row14_col2, #T_f2414_row14_col3, #T_f2414_row14_col4, #T_f2414_row15_col2, #T_f2414_row15_col3, #T_f2414_row15_col4, #T_f2414_row16_col0, #T_f2414_row16_col2, #T_f2414_row16_col3, #T_f2414_row16_col4 {\n",
       "  background-color: #ffffd9;\n",
       "  color: #000000;\n",
       "}\n",
       "#T_f2414_row1_col0, #T_f2414_row8_col1 {\n",
       "  background-color: #d0edb3;\n",
       "  color: #000000;\n",
       "}\n",
       "#T_f2414_row1_col1, #T_f2414_row2_col2, #T_f2414_row4_col0, #T_f2414_row7_col2, #T_f2414_row10_col1, #T_f2414_row13_col2, #T_f2414_row16_col1 {\n",
       "  background-color: #fafdcf;\n",
       "  color: #000000;\n",
       "}\n",
       "#T_f2414_row1_col2 {\n",
       "  background-color: #f1fabb;\n",
       "  color: #000000;\n",
       "}\n",
       "#T_f2414_row1_col3 {\n",
       "  background-color: #2352a3;\n",
       "  color: #f1f1f1;\n",
       "}\n",
       "#T_f2414_row1_col4, #T_f2414_row3_col0, #T_f2414_row6_col2 {\n",
       "  background-color: #e3f4b2;\n",
       "  color: #000000;\n",
       "}\n",
       "#T_f2414_row5_col2, #T_f2414_row14_col0, #T_f2414_row15_col1 {\n",
       "  background-color: #f6fbc5;\n",
       "  color: #000000;\n",
       "}\n",
       "#T_f2414_row6_col0 {\n",
       "  background-color: #6fc7bd;\n",
       "  color: #000000;\n",
       "}\n",
       "#T_f2414_row7_col1 {\n",
       "  background-color: #37acc3;\n",
       "  color: #f1f1f1;\n",
       "}\n",
       "#T_f2414_row9_col1 {\n",
       "  background-color: #b4e2b6;\n",
       "  color: #000000;\n",
       "}\n",
       "#T_f2414_row11_col0 {\n",
       "  background-color: #40b5c4;\n",
       "  color: #f1f1f1;\n",
       "}\n",
       "#T_f2414_row12_col0 {\n",
       "  background-color: #243392;\n",
       "  color: #f1f1f1;\n",
       "}\n",
       "#T_f2414_row12_col1 {\n",
       "  background-color: #081d58;\n",
       "  color: #f1f1f1;\n",
       "}\n",
       "#T_f2414_row15_col0 {\n",
       "  background-color: #259ac1;\n",
       "  color: #f1f1f1;\n",
       "}\n",
       "</style>\n",
       "<table id=\"T_f2414\">\n",
       "  <thead>\n",
       "    <tr>\n",
       "      <th class=\"blank level0\" >&nbsp;</th>\n",
       "      <th id=\"T_f2414_level0_col0\" class=\"col_heading level0 col0\" >hydrophobic</th>\n",
       "      <th id=\"T_f2414_level0_col1\" class=\"col_heading level0 col1\" >hbond-don</th>\n",
       "      <th id=\"T_f2414_level0_col2\" class=\"col_heading level0 col2\" >hbond-acc</th>\n",
       "      <th id=\"T_f2414_level0_col3\" class=\"col_heading level0 col3\" >pistacking</th>\n",
       "      <th id=\"T_f2414_level0_col4\" class=\"col_heading level0 col4\" >pication</th>\n",
       "    </tr>\n",
       "  </thead>\n",
       "  <tbody>\n",
       "    <tr>\n",
       "      <th id=\"T_f2414_level0_row0\" class=\"row_heading level0 row0\" >25</th>\n",
       "      <td id=\"T_f2414_row0_col0\" class=\"data row0 col0\" >4</td>\n",
       "      <td id=\"T_f2414_row0_col1\" class=\"data row0 col1\" >0</td>\n",
       "      <td id=\"T_f2414_row0_col2\" class=\"data row0 col2\" >0</td>\n",
       "      <td id=\"T_f2414_row0_col3\" class=\"data row0 col3\" >0</td>\n",
       "      <td id=\"T_f2414_row0_col4\" class=\"data row0 col4\" >0</td>\n",
       "    </tr>\n",
       "    <tr>\n",
       "      <th id=\"T_f2414_level0_row1\" class=\"row_heading level0 row1\" >41</th>\n",
       "      <td id=\"T_f2414_row1_col0\" class=\"data row1 col0\" >7</td>\n",
       "      <td id=\"T_f2414_row1_col1\" class=\"data row1 col1\" >1</td>\n",
       "      <td id=\"T_f2414_row1_col2\" class=\"data row1 col2\" >3</td>\n",
       "      <td id=\"T_f2414_row1_col3\" class=\"data row1 col3\" >25</td>\n",
       "      <td id=\"T_f2414_row1_col4\" class=\"data row1 col4\" >5</td>\n",
       "    </tr>\n",
       "    <tr>\n",
       "      <th id=\"T_f2414_level0_row2\" class=\"row_heading level0 row2\" >44</th>\n",
       "      <td id=\"T_f2414_row2_col0\" class=\"data row2 col0\" >0</td>\n",
       "      <td id=\"T_f2414_row2_col1\" class=\"data row2 col1\" >0</td>\n",
       "      <td id=\"T_f2414_row2_col2\" class=\"data row2 col2\" >1</td>\n",
       "      <td id=\"T_f2414_row2_col3\" class=\"data row2 col3\" >0</td>\n",
       "      <td id=\"T_f2414_row2_col4\" class=\"data row2 col4\" >0</td>\n",
       "    </tr>\n",
       "    <tr>\n",
       "      <th id=\"T_f2414_level0_row3\" class=\"row_heading level0 row3\" >49</th>\n",
       "      <td id=\"T_f2414_row3_col0\" class=\"data row3 col0\" >5</td>\n",
       "      <td id=\"T_f2414_row3_col1\" class=\"data row3 col1\" >0</td>\n",
       "      <td id=\"T_f2414_row3_col2\" class=\"data row3 col2\" >0</td>\n",
       "      <td id=\"T_f2414_row3_col3\" class=\"data row3 col3\" >0</td>\n",
       "      <td id=\"T_f2414_row3_col4\" class=\"data row3 col4\" >0</td>\n",
       "    </tr>\n",
       "    <tr>\n",
       "      <th id=\"T_f2414_level0_row4\" class=\"row_heading level0 row4\" >94</th>\n",
       "      <td id=\"T_f2414_row4_col0\" class=\"data row4 col0\" >1</td>\n",
       "      <td id=\"T_f2414_row4_col1\" class=\"data row4 col1\" >0</td>\n",
       "      <td id=\"T_f2414_row4_col2\" class=\"data row4 col2\" >0</td>\n",
       "      <td id=\"T_f2414_row4_col3\" class=\"data row4 col3\" >0</td>\n",
       "      <td id=\"T_f2414_row4_col4\" class=\"data row4 col4\" >0</td>\n",
       "    </tr>\n",
       "    <tr>\n",
       "      <th id=\"T_f2414_level0_row5\" class=\"row_heading level0 row5\" >140</th>\n",
       "      <td id=\"T_f2414_row5_col0\" class=\"data row5 col0\" >0</td>\n",
       "      <td id=\"T_f2414_row5_col1\" class=\"data row5 col1\" >0</td>\n",
       "      <td id=\"T_f2414_row5_col2\" class=\"data row5 col2\" >2</td>\n",
       "      <td id=\"T_f2414_row5_col3\" class=\"data row5 col3\" >0</td>\n",
       "      <td id=\"T_f2414_row5_col4\" class=\"data row5 col4\" >0</td>\n",
       "    </tr>\n",
       "    <tr>\n",
       "      <th id=\"T_f2414_level0_row6\" class=\"row_heading level0 row6\" >142</th>\n",
       "      <td id=\"T_f2414_row6_col0\" class=\"data row6 col0\" >13</td>\n",
       "      <td id=\"T_f2414_row6_col1\" class=\"data row6 col1\" >4</td>\n",
       "      <td id=\"T_f2414_row6_col2\" class=\"data row6 col2\" >5</td>\n",
       "      <td id=\"T_f2414_row6_col3\" class=\"data row6 col3\" >0</td>\n",
       "      <td id=\"T_f2414_row6_col4\" class=\"data row6 col4\" >0</td>\n",
       "    </tr>\n",
       "    <tr>\n",
       "      <th id=\"T_f2414_level0_row7\" class=\"row_heading level0 row7\" >143</th>\n",
       "      <td id=\"T_f2414_row7_col0\" class=\"data row7 col0\" >0</td>\n",
       "      <td id=\"T_f2414_row7_col1\" class=\"data row7 col1\" >17</td>\n",
       "      <td id=\"T_f2414_row7_col2\" class=\"data row7 col2\" >1</td>\n",
       "      <td id=\"T_f2414_row7_col3\" class=\"data row7 col3\" >0</td>\n",
       "      <td id=\"T_f2414_row7_col4\" class=\"data row7 col4\" >0</td>\n",
       "    </tr>\n",
       "    <tr>\n",
       "      <th id=\"T_f2414_level0_row8\" class=\"row_heading level0 row8\" >144</th>\n",
       "      <td id=\"T_f2414_row8_col0\" class=\"data row8 col0\" >0</td>\n",
       "      <td id=\"T_f2414_row8_col1\" class=\"data row8 col1\" >7</td>\n",
       "      <td id=\"T_f2414_row8_col2\" class=\"data row8 col2\" >0</td>\n",
       "      <td id=\"T_f2414_row8_col3\" class=\"data row8 col3\" >0</td>\n",
       "      <td id=\"T_f2414_row8_col4\" class=\"data row8 col4\" >0</td>\n",
       "    </tr>\n",
       "    <tr>\n",
       "      <th id=\"T_f2414_level0_row9\" class=\"row_heading level0 row9\" >145</th>\n",
       "      <td id=\"T_f2414_row9_col0\" class=\"data row9 col0\" >0</td>\n",
       "      <td id=\"T_f2414_row9_col1\" class=\"data row9 col1\" >9</td>\n",
       "      <td id=\"T_f2414_row9_col2\" class=\"data row9 col2\" >0</td>\n",
       "      <td id=\"T_f2414_row9_col3\" class=\"data row9 col3\" >0</td>\n",
       "      <td id=\"T_f2414_row9_col4\" class=\"data row9 col4\" >0</td>\n",
       "    </tr>\n",
       "    <tr>\n",
       "      <th id=\"T_f2414_level0_row10\" class=\"row_heading level0 row10\" >164</th>\n",
       "      <td id=\"T_f2414_row10_col0\" class=\"data row10 col0\" >0</td>\n",
       "      <td id=\"T_f2414_row10_col1\" class=\"data row10 col1\" >1</td>\n",
       "      <td id=\"T_f2414_row10_col2\" class=\"data row10 col2\" >0</td>\n",
       "      <td id=\"T_f2414_row10_col3\" class=\"data row10 col3\" >0</td>\n",
       "      <td id=\"T_f2414_row10_col4\" class=\"data row10 col4\" >0</td>\n",
       "    </tr>\n",
       "    <tr>\n",
       "      <th id=\"T_f2414_level0_row11\" class=\"row_heading level0 row11\" >165</th>\n",
       "      <td id=\"T_f2414_row11_col0\" class=\"data row11 col0\" >16</td>\n",
       "      <td id=\"T_f2414_row11_col1\" class=\"data row11 col1\" >0</td>\n",
       "      <td id=\"T_f2414_row11_col2\" class=\"data row11 col2\" >0</td>\n",
       "      <td id=\"T_f2414_row11_col3\" class=\"data row11 col3\" >0</td>\n",
       "      <td id=\"T_f2414_row11_col4\" class=\"data row11 col4\" >0</td>\n",
       "    </tr>\n",
       "    <tr>\n",
       "      <th id=\"T_f2414_level0_row12\" class=\"row_heading level0 row12\" >166</th>\n",
       "      <td id=\"T_f2414_row12_col0\" class=\"data row12 col0\" >28</td>\n",
       "      <td id=\"T_f2414_row12_col1\" class=\"data row12 col1\" >32</td>\n",
       "      <td id=\"T_f2414_row12_col2\" class=\"data row12 col2\" >4</td>\n",
       "      <td id=\"T_f2414_row12_col3\" class=\"data row12 col3\" >0</td>\n",
       "      <td id=\"T_f2414_row12_col4\" class=\"data row12 col4\" >0</td>\n",
       "    </tr>\n",
       "    <tr>\n",
       "      <th id=\"T_f2414_level0_row13\" class=\"row_heading level0 row13\" >172</th>\n",
       "      <td id=\"T_f2414_row13_col0\" class=\"data row13 col0\" >0</td>\n",
       "      <td id=\"T_f2414_row13_col1\" class=\"data row13 col1\" >0</td>\n",
       "      <td id=\"T_f2414_row13_col2\" class=\"data row13 col2\" >1</td>\n",
       "      <td id=\"T_f2414_row13_col3\" class=\"data row13 col3\" >0</td>\n",
       "      <td id=\"T_f2414_row13_col4\" class=\"data row13 col4\" >0</td>\n",
       "    </tr>\n",
       "    <tr>\n",
       "      <th id=\"T_f2414_level0_row14\" class=\"row_heading level0 row14\" >187</th>\n",
       "      <td id=\"T_f2414_row14_col0\" class=\"data row14 col0\" >2</td>\n",
       "      <td id=\"T_f2414_row14_col1\" class=\"data row14 col1\" >0</td>\n",
       "      <td id=\"T_f2414_row14_col2\" class=\"data row14 col2\" >0</td>\n",
       "      <td id=\"T_f2414_row14_col3\" class=\"data row14 col3\" >0</td>\n",
       "      <td id=\"T_f2414_row14_col4\" class=\"data row14 col4\" >0</td>\n",
       "    </tr>\n",
       "    <tr>\n",
       "      <th id=\"T_f2414_level0_row15\" class=\"row_heading level0 row15\" >189</th>\n",
       "      <td id=\"T_f2414_row15_col0\" class=\"data row15 col0\" >19</td>\n",
       "      <td id=\"T_f2414_row15_col1\" class=\"data row15 col1\" >2</td>\n",
       "      <td id=\"T_f2414_row15_col2\" class=\"data row15 col2\" >0</td>\n",
       "      <td id=\"T_f2414_row15_col3\" class=\"data row15 col3\" >0</td>\n",
       "      <td id=\"T_f2414_row15_col4\" class=\"data row15 col4\" >0</td>\n",
       "    </tr>\n",
       "    <tr>\n",
       "      <th id=\"T_f2414_level0_row16\" class=\"row_heading level0 row16\" >192</th>\n",
       "      <td id=\"T_f2414_row16_col0\" class=\"data row16 col0\" >0</td>\n",
       "      <td id=\"T_f2414_row16_col1\" class=\"data row16 col1\" >1</td>\n",
       "      <td id=\"T_f2414_row16_col2\" class=\"data row16 col2\" >0</td>\n",
       "      <td id=\"T_f2414_row16_col3\" class=\"data row16 col3\" >0</td>\n",
       "      <td id=\"T_f2414_row16_col4\" class=\"data row16 col4\" >0</td>\n",
       "    </tr>\n",
       "  </tbody>\n",
       "</table>\n"
      ],
      "text/plain": [
       "<pandas.io.formats.style.Styler at 0x7fc66adc0ca0>"
      ]
     },
     "execution_count": 28,
     "metadata": {},
     "output_type": "execute_result"
    }
   ],
   "source": [
    "fp_focused.style.background_gradient(axis=None, cmap=\"YlGnBu\")"
   ]
  },
  {
   "cell_type": "markdown",
   "metadata": {},
   "source": [
    "## add pocket info to fp dataframe"
   ]
  },
  {
   "cell_type": "code",
   "execution_count": 29,
   "metadata": {},
   "outputs": [
    {
     "data": {
      "text/plain": [
       "Int64Index([25, 41, 44, 49, 94, 140, 142, 143, 144, 145, 164, 165, 166, 172,\n",
       "            187, 189, 192],\n",
       "           dtype='int64')"
      ]
     },
     "execution_count": 29,
     "metadata": {},
     "output_type": "execute_result"
    }
   ],
   "source": [
    "fp_focused.index"
   ]
  },
  {
   "cell_type": "code",
   "execution_count": 30,
   "metadata": {},
   "outputs": [
    {
     "data": {
      "text/plain": [
       "array([False, False, False, False, False,  True,  True,  True,  True,\n",
       "        True,  True, False, False,  True, False, False, False])"
      ]
     },
     "execution_count": 30,
     "metadata": {},
     "output_type": "execute_result"
    }
   ],
   "source": [
    "fp_focused.index.isin(pocket_definitions['P1'])"
   ]
  },
  {
   "cell_type": "code",
   "execution_count": 31,
   "metadata": {},
   "outputs": [],
   "source": [
    "for pocket, resarray in pocket_definitions.items():\n",
    "    fp_focused.loc[fp_focused.index.isin(resarray), 'Pocket'] = pocket"
   ]
  },
  {
   "cell_type": "code",
   "execution_count": 32,
   "metadata": {},
   "outputs": [
    {
     "data": {
      "text/html": [
       "<div>\n",
       "<style scoped>\n",
       "    .dataframe tbody tr th:only-of-type {\n",
       "        vertical-align: middle;\n",
       "    }\n",
       "\n",
       "    .dataframe tbody tr th {\n",
       "        vertical-align: top;\n",
       "    }\n",
       "\n",
       "    .dataframe thead th {\n",
       "        text-align: right;\n",
       "    }\n",
       "</style>\n",
       "<table border=\"1\" class=\"dataframe\">\n",
       "  <thead>\n",
       "    <tr style=\"text-align: right;\">\n",
       "      <th></th>\n",
       "      <th>hydrophobic</th>\n",
       "      <th>hbond-don</th>\n",
       "      <th>hbond-acc</th>\n",
       "      <th>pistacking</th>\n",
       "      <th>pication</th>\n",
       "      <th>Pocket</th>\n",
       "    </tr>\n",
       "  </thead>\n",
       "  <tbody>\n",
       "    <tr>\n",
       "      <th>25</th>\n",
       "      <td>4</td>\n",
       "      <td>0</td>\n",
       "      <td>0</td>\n",
       "      <td>0</td>\n",
       "      <td>0</td>\n",
       "      <td>P1_prime</td>\n",
       "    </tr>\n",
       "    <tr>\n",
       "      <th>41</th>\n",
       "      <td>7</td>\n",
       "      <td>1</td>\n",
       "      <td>3</td>\n",
       "      <td>25</td>\n",
       "      <td>5</td>\n",
       "      <td>P2</td>\n",
       "    </tr>\n",
       "    <tr>\n",
       "      <th>44</th>\n",
       "      <td>0</td>\n",
       "      <td>0</td>\n",
       "      <td>1</td>\n",
       "      <td>0</td>\n",
       "      <td>0</td>\n",
       "      <td>NaN</td>\n",
       "    </tr>\n",
       "    <tr>\n",
       "      <th>49</th>\n",
       "      <td>5</td>\n",
       "      <td>0</td>\n",
       "      <td>0</td>\n",
       "      <td>0</td>\n",
       "      <td>0</td>\n",
       "      <td>P2</td>\n",
       "    </tr>\n",
       "    <tr>\n",
       "      <th>94</th>\n",
       "      <td>1</td>\n",
       "      <td>0</td>\n",
       "      <td>0</td>\n",
       "      <td>0</td>\n",
       "      <td>0</td>\n",
       "      <td>NaN</td>\n",
       "    </tr>\n",
       "    <tr>\n",
       "      <th>140</th>\n",
       "      <td>0</td>\n",
       "      <td>0</td>\n",
       "      <td>2</td>\n",
       "      <td>0</td>\n",
       "      <td>0</td>\n",
       "      <td>P1</td>\n",
       "    </tr>\n",
       "    <tr>\n",
       "      <th>142</th>\n",
       "      <td>13</td>\n",
       "      <td>4</td>\n",
       "      <td>5</td>\n",
       "      <td>0</td>\n",
       "      <td>0</td>\n",
       "      <td>P1</td>\n",
       "    </tr>\n",
       "    <tr>\n",
       "      <th>143</th>\n",
       "      <td>0</td>\n",
       "      <td>17</td>\n",
       "      <td>1</td>\n",
       "      <td>0</td>\n",
       "      <td>0</td>\n",
       "      <td>P1</td>\n",
       "    </tr>\n",
       "    <tr>\n",
       "      <th>144</th>\n",
       "      <td>0</td>\n",
       "      <td>7</td>\n",
       "      <td>0</td>\n",
       "      <td>0</td>\n",
       "      <td>0</td>\n",
       "      <td>P1</td>\n",
       "    </tr>\n",
       "    <tr>\n",
       "      <th>145</th>\n",
       "      <td>0</td>\n",
       "      <td>9</td>\n",
       "      <td>0</td>\n",
       "      <td>0</td>\n",
       "      <td>0</td>\n",
       "      <td>P1</td>\n",
       "    </tr>\n",
       "    <tr>\n",
       "      <th>164</th>\n",
       "      <td>0</td>\n",
       "      <td>1</td>\n",
       "      <td>0</td>\n",
       "      <td>0</td>\n",
       "      <td>0</td>\n",
       "      <td>P1</td>\n",
       "    </tr>\n",
       "    <tr>\n",
       "      <th>165</th>\n",
       "      <td>16</td>\n",
       "      <td>0</td>\n",
       "      <td>0</td>\n",
       "      <td>0</td>\n",
       "      <td>0</td>\n",
       "      <td>P3_4_5</td>\n",
       "    </tr>\n",
       "    <tr>\n",
       "      <th>166</th>\n",
       "      <td>28</td>\n",
       "      <td>32</td>\n",
       "      <td>4</td>\n",
       "      <td>0</td>\n",
       "      <td>0</td>\n",
       "      <td>P3_4_5</td>\n",
       "    </tr>\n",
       "    <tr>\n",
       "      <th>172</th>\n",
       "      <td>0</td>\n",
       "      <td>0</td>\n",
       "      <td>1</td>\n",
       "      <td>0</td>\n",
       "      <td>0</td>\n",
       "      <td>P1</td>\n",
       "    </tr>\n",
       "    <tr>\n",
       "      <th>187</th>\n",
       "      <td>2</td>\n",
       "      <td>0</td>\n",
       "      <td>0</td>\n",
       "      <td>0</td>\n",
       "      <td>0</td>\n",
       "      <td>P2</td>\n",
       "    </tr>\n",
       "    <tr>\n",
       "      <th>189</th>\n",
       "      <td>19</td>\n",
       "      <td>2</td>\n",
       "      <td>0</td>\n",
       "      <td>0</td>\n",
       "      <td>0</td>\n",
       "      <td>P3_4_5</td>\n",
       "    </tr>\n",
       "    <tr>\n",
       "      <th>192</th>\n",
       "      <td>0</td>\n",
       "      <td>1</td>\n",
       "      <td>0</td>\n",
       "      <td>0</td>\n",
       "      <td>0</td>\n",
       "      <td>P3_4_5</td>\n",
       "    </tr>\n",
       "  </tbody>\n",
       "</table>\n",
       "</div>"
      ],
      "text/plain": [
       "     hydrophobic  hbond-don  hbond-acc  pistacking  pication    Pocket\n",
       "25             4          0          0           0         0  P1_prime\n",
       "41             7          1          3          25         5        P2\n",
       "44             0          0          1           0         0       NaN\n",
       "49             5          0          0           0         0        P2\n",
       "94             1          0          0           0         0       NaN\n",
       "140            0          0          2           0         0        P1\n",
       "142           13          4          5           0         0        P1\n",
       "143            0         17          1           0         0        P1\n",
       "144            0          7          0           0         0        P1\n",
       "145            0          9          0           0         0        P1\n",
       "164            0          1          0           0         0        P1\n",
       "165           16          0          0           0         0    P3_4_5\n",
       "166           28         32          4           0         0    P3_4_5\n",
       "172            0          0          1           0         0        P1\n",
       "187            2          0          0           0         0        P2\n",
       "189           19          2          0           0         0    P3_4_5\n",
       "192            0          1          0           0         0    P3_4_5"
      ]
     },
     "execution_count": 32,
     "metadata": {},
     "output_type": "execute_result"
    }
   ],
   "source": [
    "fp_focused"
   ]
  },
  {
   "cell_type": "markdown",
   "metadata": {},
   "source": [
    "## not cumulative"
   ]
  },
  {
   "cell_type": "code",
   "execution_count": 24,
   "metadata": {},
   "outputs": [
    {
     "ename": "NameError",
     "evalue": "name 'filtered_structures' is not defined",
     "output_type": "error",
     "traceback": [
      "\u001B[0;31m---------------------------------------------------------------------------\u001B[0m",
      "\u001B[0;31mNameError\u001B[0m                                 Traceback (most recent call last)",
      "Cell \u001B[0;32mIn[24], line 3\u001B[0m\n\u001B[1;32m      1\u001B[0m \u001B[38;5;66;03m# Review\u001B[39;00m\n\u001B[1;32m      2\u001B[0m fp_not_cumulative \u001B[38;5;241m=\u001B[39m InteractionFingerprint()\u001B[38;5;241m.\u001B[39mcalculate_fingerprint(\n\u001B[0;32m----> 3\u001B[0m     \u001B[43mfiltered_structures\u001B[49m,\n\u001B[1;32m      4\u001B[0m     cumulative\u001B[38;5;241m=\u001B[39m\u001B[38;5;28;01mFalse\u001B[39;00m,\n\u001B[1;32m      5\u001B[0m     labeled\u001B[38;5;241m=\u001B[39m\u001B[38;5;28;01mTrue\u001B[39;00m,\n\u001B[1;32m      6\u001B[0m     as_dataframe\u001B[38;5;241m=\u001B[39m\u001B[38;5;28;01mTrue\u001B[39;00m,\n\u001B[1;32m      7\u001B[0m     remove_non_interacting_residues\u001B[38;5;241m=\u001B[39m\u001B[38;5;28;01mTrue\u001B[39;00m,\n\u001B[1;32m      8\u001B[0m     remove_empty_interaction_types\u001B[38;5;241m=\u001B[39m\u001B[38;5;28;01mTrue\u001B[39;00m,\n\u001B[1;32m      9\u001B[0m     ensure_same_sequence\u001B[38;5;241m=\u001B[39m\u001B[38;5;28;01mFalse\u001B[39;00m\n\u001B[1;32m     10\u001B[0m )\n",
      "\u001B[0;31mNameError\u001B[0m: name 'filtered_structures' is not defined"
     ]
    }
   ],
   "source": [
    "# Review\n",
    "fp_not_cumulative = InteractionFingerprint().calculate_fingerprint(\n",
    "    filtered_structures,\n",
    "    cumulative=False,\n",
    "    labeled=True,\n",
    "    as_dataframe=True,\n",
    "    remove_non_interacting_residues=True,\n",
    "    remove_empty_interaction_types=True,\n",
    "    ensure_same_sequence=False\n",
    ")"
   ]
  },
  {
   "cell_type": "code",
   "execution_count": null,
   "metadata": {},
   "outputs": [],
   "source": [
    "np.shape(fp_not_cumulative)"
   ]
  },
  {
   "cell_type": "code",
   "execution_count": null,
   "metadata": {},
   "outputs": [],
   "source": [
    "fp_not_cumulative[0][0].label['residue'].structure.identifier"
   ]
  },
  {
   "cell_type": "code",
   "execution_count": null,
   "metadata": {},
   "outputs": [],
   "source": [
    "fp_not_cumulative[0][0].label['residue'].seq_index"
   ]
  },
  {
   "cell_type": "markdown",
   "metadata": {},
   "source": [
    "# which structures are returning non labeled active site residues?"
   ]
  },
  {
   "cell_type": "code",
   "execution_count": null,
   "metadata": {},
   "outputs": [],
   "source": [
    "wacky_residues = fp_focused.index[fp_focused.Pocket.isna()]"
   ]
  },
  {
   "cell_type": "code",
   "execution_count": null,
   "metadata": {},
   "outputs": [],
   "source": [
    "wacky_interactions = []\n",
    "for structure in fp_not_cumulative:\n",
    "    for interaction in structure:\n",
    "        if interaction.label['residue'].seq_index in wacky_residues:\n",
    "            if interaction.value > 0:\n",
    "                wacky_interactions.append(interaction)"
   ]
  },
  {
   "cell_type": "code",
   "execution_count": null,
   "metadata": {},
   "outputs": [],
   "source": [
    "wacky_structures = []\n",
    "for interaction in wacky_interactions:\n",
    "    print(interaction.label['residue'].identifier, \n",
    "          interaction.value, interaction.label['type'],\n",
    "          interaction.label['residue'].structure.identifier)\n",
    "    wacky_structures.append(interaction.label['residue'].structure.identifier)"
   ]
  },
  {
   "cell_type": "code",
   "execution_count": null,
   "metadata": {},
   "outputs": [],
   "source": [
    "set(wacky_structures)"
   ]
  },
  {
   "cell_type": "markdown",
   "metadata": {},
   "source": [
    "# Visualization"
   ]
  },
  {
   "cell_type": "markdown",
   "metadata": {},
   "source": [
    "## Analyze and visualize the results\n",
    "\n",
    "* First, we will look at the different representations for the interation hot spots.\n",
    "* Then, we will visualize the interactions in 3D\n",
    "    * nglview\n",
    "    * pymol"
   ]
  },
  {
   "cell_type": "markdown",
   "metadata": {},
   "source": [
    "### Interaction visualizations: Barplot, heatmap and table\n",
    "\n",
    "`plipify` provides several views for the aggregated interaction fingerprints."
   ]
  },
  {
   "cell_type": "markdown",
   "metadata": {},
   "source": [
    "#### Barplot"
   ]
  },
  {
   "cell_type": "code",
   "execution_count": 33,
   "metadata": {},
   "outputs": [
    {
     "data": {
      "application/vnd.plotly.v1+json": {
       "config": {
        "plotlyServerURL": "https://plot.ly"
       },
       "data": [
        {
         "name": "pistacking",
         "type": "bar",
         "x": [
          25,
          41,
          44,
          49,
          94,
          140,
          142,
          143,
          144,
          145,
          164,
          165,
          166,
          172,
          187,
          189,
          192
         ],
         "y": [
          0,
          25,
          0,
          0,
          0,
          0,
          0,
          0,
          0,
          0,
          0,
          0,
          0,
          0,
          0,
          0,
          0
         ]
        },
        {
         "name": "pication",
         "type": "bar",
         "x": [
          25,
          41,
          44,
          49,
          94,
          140,
          142,
          143,
          144,
          145,
          164,
          165,
          166,
          172,
          187,
          189,
          192
         ],
         "y": [
          0,
          5,
          0,
          0,
          0,
          0,
          0,
          0,
          0,
          0,
          0,
          0,
          0,
          0,
          0,
          0,
          0
         ]
        },
        {
         "name": "hydrophobic",
         "type": "bar",
         "x": [
          25,
          41,
          44,
          49,
          94,
          140,
          142,
          143,
          144,
          145,
          164,
          165,
          166,
          172,
          187,
          189,
          192
         ],
         "y": [
          4,
          7,
          0,
          5,
          1,
          0,
          13,
          0,
          0,
          0,
          0,
          16,
          28,
          0,
          2,
          19,
          0
         ]
        },
        {
         "name": "hbond-don",
         "type": "bar",
         "x": [
          25,
          41,
          44,
          49,
          94,
          140,
          142,
          143,
          144,
          145,
          164,
          165,
          166,
          172,
          187,
          189,
          192
         ],
         "y": [
          0,
          1,
          0,
          0,
          0,
          0,
          4,
          17,
          7,
          9,
          1,
          0,
          32,
          0,
          0,
          2,
          1
         ]
        },
        {
         "name": "hbond-acc",
         "type": "bar",
         "x": [
          25,
          41,
          44,
          49,
          94,
          140,
          142,
          143,
          144,
          145,
          164,
          165,
          166,
          172,
          187,
          189,
          192
         ],
         "y": [
          0,
          3,
          1,
          0,
          0,
          2,
          5,
          1,
          0,
          0,
          0,
          0,
          4,
          1,
          0,
          0,
          0
         ]
        },
        {
         "name": "Pocket",
         "type": "bar",
         "x": [
          25,
          41,
          44,
          49,
          94,
          140,
          142,
          143,
          144,
          145,
          164,
          165,
          166,
          172,
          187,
          189,
          192
         ],
         "y": [
          "P1_prime",
          "P2",
          null,
          "P2",
          null,
          "P1",
          "P1",
          "P1",
          "P1",
          "P1",
          "P1",
          "P3_4_5",
          "P3_4_5",
          "P1",
          "P2",
          "P3_4_5",
          "P3_4_5"
         ]
        }
       ],
       "layout": {
        "barmode": "stack",
        "template": {
         "data": {
          "bar": [
           {
            "error_x": {
             "color": "#2a3f5f"
            },
            "error_y": {
             "color": "#2a3f5f"
            },
            "marker": {
             "line": {
              "color": "#E5ECF6",
              "width": 0.5
             },
             "pattern": {
              "fillmode": "overlay",
              "size": 10,
              "solidity": 0.2
             }
            },
            "type": "bar"
           }
          ],
          "barpolar": [
           {
            "marker": {
             "line": {
              "color": "#E5ECF6",
              "width": 0.5
             },
             "pattern": {
              "fillmode": "overlay",
              "size": 10,
              "solidity": 0.2
             }
            },
            "type": "barpolar"
           }
          ],
          "carpet": [
           {
            "aaxis": {
             "endlinecolor": "#2a3f5f",
             "gridcolor": "white",
             "linecolor": "white",
             "minorgridcolor": "white",
             "startlinecolor": "#2a3f5f"
            },
            "baxis": {
             "endlinecolor": "#2a3f5f",
             "gridcolor": "white",
             "linecolor": "white",
             "minorgridcolor": "white",
             "startlinecolor": "#2a3f5f"
            },
            "type": "carpet"
           }
          ],
          "choropleth": [
           {
            "colorbar": {
             "outlinewidth": 0,
             "ticks": ""
            },
            "type": "choropleth"
           }
          ],
          "contour": [
           {
            "colorbar": {
             "outlinewidth": 0,
             "ticks": ""
            },
            "colorscale": [
             [
              0,
              "#0d0887"
             ],
             [
              0.1111111111111111,
              "#46039f"
             ],
             [
              0.2222222222222222,
              "#7201a8"
             ],
             [
              0.3333333333333333,
              "#9c179e"
             ],
             [
              0.4444444444444444,
              "#bd3786"
             ],
             [
              0.5555555555555556,
              "#d8576b"
             ],
             [
              0.6666666666666666,
              "#ed7953"
             ],
             [
              0.7777777777777778,
              "#fb9f3a"
             ],
             [
              0.8888888888888888,
              "#fdca26"
             ],
             [
              1,
              "#f0f921"
             ]
            ],
            "type": "contour"
           }
          ],
          "contourcarpet": [
           {
            "colorbar": {
             "outlinewidth": 0,
             "ticks": ""
            },
            "type": "contourcarpet"
           }
          ],
          "heatmap": [
           {
            "colorbar": {
             "outlinewidth": 0,
             "ticks": ""
            },
            "colorscale": [
             [
              0,
              "#0d0887"
             ],
             [
              0.1111111111111111,
              "#46039f"
             ],
             [
              0.2222222222222222,
              "#7201a8"
             ],
             [
              0.3333333333333333,
              "#9c179e"
             ],
             [
              0.4444444444444444,
              "#bd3786"
             ],
             [
              0.5555555555555556,
              "#d8576b"
             ],
             [
              0.6666666666666666,
              "#ed7953"
             ],
             [
              0.7777777777777778,
              "#fb9f3a"
             ],
             [
              0.8888888888888888,
              "#fdca26"
             ],
             [
              1,
              "#f0f921"
             ]
            ],
            "type": "heatmap"
           }
          ],
          "heatmapgl": [
           {
            "colorbar": {
             "outlinewidth": 0,
             "ticks": ""
            },
            "colorscale": [
             [
              0,
              "#0d0887"
             ],
             [
              0.1111111111111111,
              "#46039f"
             ],
             [
              0.2222222222222222,
              "#7201a8"
             ],
             [
              0.3333333333333333,
              "#9c179e"
             ],
             [
              0.4444444444444444,
              "#bd3786"
             ],
             [
              0.5555555555555556,
              "#d8576b"
             ],
             [
              0.6666666666666666,
              "#ed7953"
             ],
             [
              0.7777777777777778,
              "#fb9f3a"
             ],
             [
              0.8888888888888888,
              "#fdca26"
             ],
             [
              1,
              "#f0f921"
             ]
            ],
            "type": "heatmapgl"
           }
          ],
          "histogram": [
           {
            "marker": {
             "pattern": {
              "fillmode": "overlay",
              "size": 10,
              "solidity": 0.2
             }
            },
            "type": "histogram"
           }
          ],
          "histogram2d": [
           {
            "colorbar": {
             "outlinewidth": 0,
             "ticks": ""
            },
            "colorscale": [
             [
              0,
              "#0d0887"
             ],
             [
              0.1111111111111111,
              "#46039f"
             ],
             [
              0.2222222222222222,
              "#7201a8"
             ],
             [
              0.3333333333333333,
              "#9c179e"
             ],
             [
              0.4444444444444444,
              "#bd3786"
             ],
             [
              0.5555555555555556,
              "#d8576b"
             ],
             [
              0.6666666666666666,
              "#ed7953"
             ],
             [
              0.7777777777777778,
              "#fb9f3a"
             ],
             [
              0.8888888888888888,
              "#fdca26"
             ],
             [
              1,
              "#f0f921"
             ]
            ],
            "type": "histogram2d"
           }
          ],
          "histogram2dcontour": [
           {
            "colorbar": {
             "outlinewidth": 0,
             "ticks": ""
            },
            "colorscale": [
             [
              0,
              "#0d0887"
             ],
             [
              0.1111111111111111,
              "#46039f"
             ],
             [
              0.2222222222222222,
              "#7201a8"
             ],
             [
              0.3333333333333333,
              "#9c179e"
             ],
             [
              0.4444444444444444,
              "#bd3786"
             ],
             [
              0.5555555555555556,
              "#d8576b"
             ],
             [
              0.6666666666666666,
              "#ed7953"
             ],
             [
              0.7777777777777778,
              "#fb9f3a"
             ],
             [
              0.8888888888888888,
              "#fdca26"
             ],
             [
              1,
              "#f0f921"
             ]
            ],
            "type": "histogram2dcontour"
           }
          ],
          "mesh3d": [
           {
            "colorbar": {
             "outlinewidth": 0,
             "ticks": ""
            },
            "type": "mesh3d"
           }
          ],
          "parcoords": [
           {
            "line": {
             "colorbar": {
              "outlinewidth": 0,
              "ticks": ""
             }
            },
            "type": "parcoords"
           }
          ],
          "pie": [
           {
            "automargin": true,
            "type": "pie"
           }
          ],
          "scatter": [
           {
            "fillpattern": {
             "fillmode": "overlay",
             "size": 10,
             "solidity": 0.2
            },
            "type": "scatter"
           }
          ],
          "scatter3d": [
           {
            "line": {
             "colorbar": {
              "outlinewidth": 0,
              "ticks": ""
             }
            },
            "marker": {
             "colorbar": {
              "outlinewidth": 0,
              "ticks": ""
             }
            },
            "type": "scatter3d"
           }
          ],
          "scattercarpet": [
           {
            "marker": {
             "colorbar": {
              "outlinewidth": 0,
              "ticks": ""
             }
            },
            "type": "scattercarpet"
           }
          ],
          "scattergeo": [
           {
            "marker": {
             "colorbar": {
              "outlinewidth": 0,
              "ticks": ""
             }
            },
            "type": "scattergeo"
           }
          ],
          "scattergl": [
           {
            "marker": {
             "colorbar": {
              "outlinewidth": 0,
              "ticks": ""
             }
            },
            "type": "scattergl"
           }
          ],
          "scattermapbox": [
           {
            "marker": {
             "colorbar": {
              "outlinewidth": 0,
              "ticks": ""
             }
            },
            "type": "scattermapbox"
           }
          ],
          "scatterpolar": [
           {
            "marker": {
             "colorbar": {
              "outlinewidth": 0,
              "ticks": ""
             }
            },
            "type": "scatterpolar"
           }
          ],
          "scatterpolargl": [
           {
            "marker": {
             "colorbar": {
              "outlinewidth": 0,
              "ticks": ""
             }
            },
            "type": "scatterpolargl"
           }
          ],
          "scatterternary": [
           {
            "marker": {
             "colorbar": {
              "outlinewidth": 0,
              "ticks": ""
             }
            },
            "type": "scatterternary"
           }
          ],
          "surface": [
           {
            "colorbar": {
             "outlinewidth": 0,
             "ticks": ""
            },
            "colorscale": [
             [
              0,
              "#0d0887"
             ],
             [
              0.1111111111111111,
              "#46039f"
             ],
             [
              0.2222222222222222,
              "#7201a8"
             ],
             [
              0.3333333333333333,
              "#9c179e"
             ],
             [
              0.4444444444444444,
              "#bd3786"
             ],
             [
              0.5555555555555556,
              "#d8576b"
             ],
             [
              0.6666666666666666,
              "#ed7953"
             ],
             [
              0.7777777777777778,
              "#fb9f3a"
             ],
             [
              0.8888888888888888,
              "#fdca26"
             ],
             [
              1,
              "#f0f921"
             ]
            ],
            "type": "surface"
           }
          ],
          "table": [
           {
            "cells": {
             "fill": {
              "color": "#EBF0F8"
             },
             "line": {
              "color": "white"
             }
            },
            "header": {
             "fill": {
              "color": "#C8D4E3"
             },
             "line": {
              "color": "white"
             }
            },
            "type": "table"
           }
          ]
         },
         "layout": {
          "annotationdefaults": {
           "arrowcolor": "#2a3f5f",
           "arrowhead": 0,
           "arrowwidth": 1
          },
          "autotypenumbers": "strict",
          "coloraxis": {
           "colorbar": {
            "outlinewidth": 0,
            "ticks": ""
           }
          },
          "colorscale": {
           "diverging": [
            [
             0,
             "#8e0152"
            ],
            [
             0.1,
             "#c51b7d"
            ],
            [
             0.2,
             "#de77ae"
            ],
            [
             0.3,
             "#f1b6da"
            ],
            [
             0.4,
             "#fde0ef"
            ],
            [
             0.5,
             "#f7f7f7"
            ],
            [
             0.6,
             "#e6f5d0"
            ],
            [
             0.7,
             "#b8e186"
            ],
            [
             0.8,
             "#7fbc41"
            ],
            [
             0.9,
             "#4d9221"
            ],
            [
             1,
             "#276419"
            ]
           ],
           "sequential": [
            [
             0,
             "#0d0887"
            ],
            [
             0.1111111111111111,
             "#46039f"
            ],
            [
             0.2222222222222222,
             "#7201a8"
            ],
            [
             0.3333333333333333,
             "#9c179e"
            ],
            [
             0.4444444444444444,
             "#bd3786"
            ],
            [
             0.5555555555555556,
             "#d8576b"
            ],
            [
             0.6666666666666666,
             "#ed7953"
            ],
            [
             0.7777777777777778,
             "#fb9f3a"
            ],
            [
             0.8888888888888888,
             "#fdca26"
            ],
            [
             1,
             "#f0f921"
            ]
           ],
           "sequentialminus": [
            [
             0,
             "#0d0887"
            ],
            [
             0.1111111111111111,
             "#46039f"
            ],
            [
             0.2222222222222222,
             "#7201a8"
            ],
            [
             0.3333333333333333,
             "#9c179e"
            ],
            [
             0.4444444444444444,
             "#bd3786"
            ],
            [
             0.5555555555555556,
             "#d8576b"
            ],
            [
             0.6666666666666666,
             "#ed7953"
            ],
            [
             0.7777777777777778,
             "#fb9f3a"
            ],
            [
             0.8888888888888888,
             "#fdca26"
            ],
            [
             1,
             "#f0f921"
            ]
           ]
          },
          "colorway": [
           "#636efa",
           "#EF553B",
           "#00cc96",
           "#ab63fa",
           "#FFA15A",
           "#19d3f3",
           "#FF6692",
           "#B6E880",
           "#FF97FF",
           "#FECB52"
          ],
          "font": {
           "color": "#2a3f5f"
          },
          "geo": {
           "bgcolor": "white",
           "lakecolor": "white",
           "landcolor": "#E5ECF6",
           "showlakes": true,
           "showland": true,
           "subunitcolor": "white"
          },
          "hoverlabel": {
           "align": "left"
          },
          "hovermode": "closest",
          "mapbox": {
           "style": "light"
          },
          "paper_bgcolor": "white",
          "plot_bgcolor": "#E5ECF6",
          "polar": {
           "angularaxis": {
            "gridcolor": "white",
            "linecolor": "white",
            "ticks": ""
           },
           "bgcolor": "#E5ECF6",
           "radialaxis": {
            "gridcolor": "white",
            "linecolor": "white",
            "ticks": ""
           }
          },
          "scene": {
           "xaxis": {
            "backgroundcolor": "#E5ECF6",
            "gridcolor": "white",
            "gridwidth": 2,
            "linecolor": "white",
            "showbackground": true,
            "ticks": "",
            "zerolinecolor": "white"
           },
           "yaxis": {
            "backgroundcolor": "#E5ECF6",
            "gridcolor": "white",
            "gridwidth": 2,
            "linecolor": "white",
            "showbackground": true,
            "ticks": "",
            "zerolinecolor": "white"
           },
           "zaxis": {
            "backgroundcolor": "#E5ECF6",
            "gridcolor": "white",
            "gridwidth": 2,
            "linecolor": "white",
            "showbackground": true,
            "ticks": "",
            "zerolinecolor": "white"
           }
          },
          "shapedefaults": {
           "line": {
            "color": "#2a3f5f"
           }
          },
          "ternary": {
           "aaxis": {
            "gridcolor": "white",
            "linecolor": "white",
            "ticks": ""
           },
           "baxis": {
            "gridcolor": "white",
            "linecolor": "white",
            "ticks": ""
           },
           "bgcolor": "#E5ECF6",
           "caxis": {
            "gridcolor": "white",
            "linecolor": "white",
            "ticks": ""
           }
          },
          "title": {
           "x": 0.05
          },
          "xaxis": {
           "automargin": true,
           "gridcolor": "white",
           "linecolor": "white",
           "ticks": "",
           "title": {
            "standoff": 15
           },
           "zerolinecolor": "white",
           "zerolinewidth": 2
          },
          "yaxis": {
           "automargin": true,
           "gridcolor": "white",
           "linecolor": "white",
           "ticks": "",
           "title": {
            "standoff": 15
           },
           "zerolinecolor": "white",
           "zerolinewidth": 2
          }
         }
        },
        "title": {
         "text": "Residue Interactions"
        },
        "xaxis": {
         "title": {
          "text": "Residues"
         },
         "type": "category"
        },
        "yaxis": {
         "title": {
          "text": "Interactions"
         }
        }
       }
      },
      "text/html": [
       "<div>                            <div id=\"67a95f38-db48-4b78-a290-b08532d4b1d2\" class=\"plotly-graph-div\" style=\"height:525px; width:100%;\"></div>            <script type=\"text/javascript\">                require([\"plotly\"], function(Plotly) {                    window.PLOTLYENV=window.PLOTLYENV || {};                                    if (document.getElementById(\"67a95f38-db48-4b78-a290-b08532d4b1d2\")) {                    Plotly.newPlot(                        \"67a95f38-db48-4b78-a290-b08532d4b1d2\",                        [{\"name\":\"pistacking\",\"x\":[25,41,44,49,94,140,142,143,144,145,164,165,166,172,187,189,192],\"y\":[0,25,0,0,0,0,0,0,0,0,0,0,0,0,0,0,0],\"type\":\"bar\"},{\"name\":\"pication\",\"x\":[25,41,44,49,94,140,142,143,144,145,164,165,166,172,187,189,192],\"y\":[0,5,0,0,0,0,0,0,0,0,0,0,0,0,0,0,0],\"type\":\"bar\"},{\"name\":\"hydrophobic\",\"x\":[25,41,44,49,94,140,142,143,144,145,164,165,166,172,187,189,192],\"y\":[4,7,0,5,1,0,13,0,0,0,0,16,28,0,2,19,0],\"type\":\"bar\"},{\"name\":\"hbond-don\",\"x\":[25,41,44,49,94,140,142,143,144,145,164,165,166,172,187,189,192],\"y\":[0,1,0,0,0,0,4,17,7,9,1,0,32,0,0,2,1],\"type\":\"bar\"},{\"name\":\"hbond-acc\",\"x\":[25,41,44,49,94,140,142,143,144,145,164,165,166,172,187,189,192],\"y\":[0,3,1,0,0,2,5,1,0,0,0,0,4,1,0,0,0],\"type\":\"bar\"},{\"name\":\"Pocket\",\"x\":[25,41,44,49,94,140,142,143,144,145,164,165,166,172,187,189,192],\"y\":[\"P1_prime\",\"P2\",null,\"P2\",null,\"P1\",\"P1\",\"P1\",\"P1\",\"P1\",\"P1\",\"P3_4_5\",\"P3_4_5\",\"P1\",\"P2\",\"P3_4_5\",\"P3_4_5\"],\"type\":\"bar\"}],                        {\"template\":{\"data\":{\"histogram2dcontour\":[{\"type\":\"histogram2dcontour\",\"colorbar\":{\"outlinewidth\":0,\"ticks\":\"\"},\"colorscale\":[[0.0,\"#0d0887\"],[0.1111111111111111,\"#46039f\"],[0.2222222222222222,\"#7201a8\"],[0.3333333333333333,\"#9c179e\"],[0.4444444444444444,\"#bd3786\"],[0.5555555555555556,\"#d8576b\"],[0.6666666666666666,\"#ed7953\"],[0.7777777777777778,\"#fb9f3a\"],[0.8888888888888888,\"#fdca26\"],[1.0,\"#f0f921\"]]}],\"choropleth\":[{\"type\":\"choropleth\",\"colorbar\":{\"outlinewidth\":0,\"ticks\":\"\"}}],\"histogram2d\":[{\"type\":\"histogram2d\",\"colorbar\":{\"outlinewidth\":0,\"ticks\":\"\"},\"colorscale\":[[0.0,\"#0d0887\"],[0.1111111111111111,\"#46039f\"],[0.2222222222222222,\"#7201a8\"],[0.3333333333333333,\"#9c179e\"],[0.4444444444444444,\"#bd3786\"],[0.5555555555555556,\"#d8576b\"],[0.6666666666666666,\"#ed7953\"],[0.7777777777777778,\"#fb9f3a\"],[0.8888888888888888,\"#fdca26\"],[1.0,\"#f0f921\"]]}],\"heatmap\":[{\"type\":\"heatmap\",\"colorbar\":{\"outlinewidth\":0,\"ticks\":\"\"},\"colorscale\":[[0.0,\"#0d0887\"],[0.1111111111111111,\"#46039f\"],[0.2222222222222222,\"#7201a8\"],[0.3333333333333333,\"#9c179e\"],[0.4444444444444444,\"#bd3786\"],[0.5555555555555556,\"#d8576b\"],[0.6666666666666666,\"#ed7953\"],[0.7777777777777778,\"#fb9f3a\"],[0.8888888888888888,\"#fdca26\"],[1.0,\"#f0f921\"]]}],\"heatmapgl\":[{\"type\":\"heatmapgl\",\"colorbar\":{\"outlinewidth\":0,\"ticks\":\"\"},\"colorscale\":[[0.0,\"#0d0887\"],[0.1111111111111111,\"#46039f\"],[0.2222222222222222,\"#7201a8\"],[0.3333333333333333,\"#9c179e\"],[0.4444444444444444,\"#bd3786\"],[0.5555555555555556,\"#d8576b\"],[0.6666666666666666,\"#ed7953\"],[0.7777777777777778,\"#fb9f3a\"],[0.8888888888888888,\"#fdca26\"],[1.0,\"#f0f921\"]]}],\"contourcarpet\":[{\"type\":\"contourcarpet\",\"colorbar\":{\"outlinewidth\":0,\"ticks\":\"\"}}],\"contour\":[{\"type\":\"contour\",\"colorbar\":{\"outlinewidth\":0,\"ticks\":\"\"},\"colorscale\":[[0.0,\"#0d0887\"],[0.1111111111111111,\"#46039f\"],[0.2222222222222222,\"#7201a8\"],[0.3333333333333333,\"#9c179e\"],[0.4444444444444444,\"#bd3786\"],[0.5555555555555556,\"#d8576b\"],[0.6666666666666666,\"#ed7953\"],[0.7777777777777778,\"#fb9f3a\"],[0.8888888888888888,\"#fdca26\"],[1.0,\"#f0f921\"]]}],\"surface\":[{\"type\":\"surface\",\"colorbar\":{\"outlinewidth\":0,\"ticks\":\"\"},\"colorscale\":[[0.0,\"#0d0887\"],[0.1111111111111111,\"#46039f\"],[0.2222222222222222,\"#7201a8\"],[0.3333333333333333,\"#9c179e\"],[0.4444444444444444,\"#bd3786\"],[0.5555555555555556,\"#d8576b\"],[0.6666666666666666,\"#ed7953\"],[0.7777777777777778,\"#fb9f3a\"],[0.8888888888888888,\"#fdca26\"],[1.0,\"#f0f921\"]]}],\"mesh3d\":[{\"type\":\"mesh3d\",\"colorbar\":{\"outlinewidth\":0,\"ticks\":\"\"}}],\"scatter\":[{\"fillpattern\":{\"fillmode\":\"overlay\",\"size\":10,\"solidity\":0.2},\"type\":\"scatter\"}],\"parcoords\":[{\"type\":\"parcoords\",\"line\":{\"colorbar\":{\"outlinewidth\":0,\"ticks\":\"\"}}}],\"scatterpolargl\":[{\"type\":\"scatterpolargl\",\"marker\":{\"colorbar\":{\"outlinewidth\":0,\"ticks\":\"\"}}}],\"bar\":[{\"error_x\":{\"color\":\"#2a3f5f\"},\"error_y\":{\"color\":\"#2a3f5f\"},\"marker\":{\"line\":{\"color\":\"#E5ECF6\",\"width\":0.5},\"pattern\":{\"fillmode\":\"overlay\",\"size\":10,\"solidity\":0.2}},\"type\":\"bar\"}],\"scattergeo\":[{\"type\":\"scattergeo\",\"marker\":{\"colorbar\":{\"outlinewidth\":0,\"ticks\":\"\"}}}],\"scatterpolar\":[{\"type\":\"scatterpolar\",\"marker\":{\"colorbar\":{\"outlinewidth\":0,\"ticks\":\"\"}}}],\"histogram\":[{\"marker\":{\"pattern\":{\"fillmode\":\"overlay\",\"size\":10,\"solidity\":0.2}},\"type\":\"histogram\"}],\"scattergl\":[{\"type\":\"scattergl\",\"marker\":{\"colorbar\":{\"outlinewidth\":0,\"ticks\":\"\"}}}],\"scatter3d\":[{\"type\":\"scatter3d\",\"line\":{\"colorbar\":{\"outlinewidth\":0,\"ticks\":\"\"}},\"marker\":{\"colorbar\":{\"outlinewidth\":0,\"ticks\":\"\"}}}],\"scattermapbox\":[{\"type\":\"scattermapbox\",\"marker\":{\"colorbar\":{\"outlinewidth\":0,\"ticks\":\"\"}}}],\"scatterternary\":[{\"type\":\"scatterternary\",\"marker\":{\"colorbar\":{\"outlinewidth\":0,\"ticks\":\"\"}}}],\"scattercarpet\":[{\"type\":\"scattercarpet\",\"marker\":{\"colorbar\":{\"outlinewidth\":0,\"ticks\":\"\"}}}],\"carpet\":[{\"aaxis\":{\"endlinecolor\":\"#2a3f5f\",\"gridcolor\":\"white\",\"linecolor\":\"white\",\"minorgridcolor\":\"white\",\"startlinecolor\":\"#2a3f5f\"},\"baxis\":{\"endlinecolor\":\"#2a3f5f\",\"gridcolor\":\"white\",\"linecolor\":\"white\",\"minorgridcolor\":\"white\",\"startlinecolor\":\"#2a3f5f\"},\"type\":\"carpet\"}],\"table\":[{\"cells\":{\"fill\":{\"color\":\"#EBF0F8\"},\"line\":{\"color\":\"white\"}},\"header\":{\"fill\":{\"color\":\"#C8D4E3\"},\"line\":{\"color\":\"white\"}},\"type\":\"table\"}],\"barpolar\":[{\"marker\":{\"line\":{\"color\":\"#E5ECF6\",\"width\":0.5},\"pattern\":{\"fillmode\":\"overlay\",\"size\":10,\"solidity\":0.2}},\"type\":\"barpolar\"}],\"pie\":[{\"automargin\":true,\"type\":\"pie\"}]},\"layout\":{\"autotypenumbers\":\"strict\",\"colorway\":[\"#636efa\",\"#EF553B\",\"#00cc96\",\"#ab63fa\",\"#FFA15A\",\"#19d3f3\",\"#FF6692\",\"#B6E880\",\"#FF97FF\",\"#FECB52\"],\"font\":{\"color\":\"#2a3f5f\"},\"hovermode\":\"closest\",\"hoverlabel\":{\"align\":\"left\"},\"paper_bgcolor\":\"white\",\"plot_bgcolor\":\"#E5ECF6\",\"polar\":{\"bgcolor\":\"#E5ECF6\",\"angularaxis\":{\"gridcolor\":\"white\",\"linecolor\":\"white\",\"ticks\":\"\"},\"radialaxis\":{\"gridcolor\":\"white\",\"linecolor\":\"white\",\"ticks\":\"\"}},\"ternary\":{\"bgcolor\":\"#E5ECF6\",\"aaxis\":{\"gridcolor\":\"white\",\"linecolor\":\"white\",\"ticks\":\"\"},\"baxis\":{\"gridcolor\":\"white\",\"linecolor\":\"white\",\"ticks\":\"\"},\"caxis\":{\"gridcolor\":\"white\",\"linecolor\":\"white\",\"ticks\":\"\"}},\"coloraxis\":{\"colorbar\":{\"outlinewidth\":0,\"ticks\":\"\"}},\"colorscale\":{\"sequential\":[[0.0,\"#0d0887\"],[0.1111111111111111,\"#46039f\"],[0.2222222222222222,\"#7201a8\"],[0.3333333333333333,\"#9c179e\"],[0.4444444444444444,\"#bd3786\"],[0.5555555555555556,\"#d8576b\"],[0.6666666666666666,\"#ed7953\"],[0.7777777777777778,\"#fb9f3a\"],[0.8888888888888888,\"#fdca26\"],[1.0,\"#f0f921\"]],\"sequentialminus\":[[0.0,\"#0d0887\"],[0.1111111111111111,\"#46039f\"],[0.2222222222222222,\"#7201a8\"],[0.3333333333333333,\"#9c179e\"],[0.4444444444444444,\"#bd3786\"],[0.5555555555555556,\"#d8576b\"],[0.6666666666666666,\"#ed7953\"],[0.7777777777777778,\"#fb9f3a\"],[0.8888888888888888,\"#fdca26\"],[1.0,\"#f0f921\"]],\"diverging\":[[0,\"#8e0152\"],[0.1,\"#c51b7d\"],[0.2,\"#de77ae\"],[0.3,\"#f1b6da\"],[0.4,\"#fde0ef\"],[0.5,\"#f7f7f7\"],[0.6,\"#e6f5d0\"],[0.7,\"#b8e186\"],[0.8,\"#7fbc41\"],[0.9,\"#4d9221\"],[1,\"#276419\"]]},\"xaxis\":{\"gridcolor\":\"white\",\"linecolor\":\"white\",\"ticks\":\"\",\"title\":{\"standoff\":15},\"zerolinecolor\":\"white\",\"automargin\":true,\"zerolinewidth\":2},\"yaxis\":{\"gridcolor\":\"white\",\"linecolor\":\"white\",\"ticks\":\"\",\"title\":{\"standoff\":15},\"zerolinecolor\":\"white\",\"automargin\":true,\"zerolinewidth\":2},\"scene\":{\"xaxis\":{\"backgroundcolor\":\"#E5ECF6\",\"gridcolor\":\"white\",\"linecolor\":\"white\",\"showbackground\":true,\"ticks\":\"\",\"zerolinecolor\":\"white\",\"gridwidth\":2},\"yaxis\":{\"backgroundcolor\":\"#E5ECF6\",\"gridcolor\":\"white\",\"linecolor\":\"white\",\"showbackground\":true,\"ticks\":\"\",\"zerolinecolor\":\"white\",\"gridwidth\":2},\"zaxis\":{\"backgroundcolor\":\"#E5ECF6\",\"gridcolor\":\"white\",\"linecolor\":\"white\",\"showbackground\":true,\"ticks\":\"\",\"zerolinecolor\":\"white\",\"gridwidth\":2}},\"shapedefaults\":{\"line\":{\"color\":\"#2a3f5f\"}},\"annotationdefaults\":{\"arrowcolor\":\"#2a3f5f\",\"arrowhead\":0,\"arrowwidth\":1},\"geo\":{\"bgcolor\":\"white\",\"landcolor\":\"#E5ECF6\",\"subunitcolor\":\"white\",\"showland\":true,\"showlakes\":true,\"lakecolor\":\"white\"},\"title\":{\"x\":0.05},\"mapbox\":{\"style\":\"light\"}}},\"title\":{\"text\":\"Residue Interactions\"},\"barmode\":\"stack\",\"yaxis\":{\"title\":{\"text\":\"Interactions\"}},\"xaxis\":{\"title\":{\"text\":\"Residues\"},\"type\":\"category\"}},                        {\"responsive\": true}                    ).then(function(){\n",
       "                            \n",
       "var gd = document.getElementById('67a95f38-db48-4b78-a290-b08532d4b1d2');\n",
       "var x = new MutationObserver(function (mutations, observer) {{\n",
       "        var display = window.getComputedStyle(gd).display;\n",
       "        if (!display || display === 'none') {{\n",
       "            console.log([gd, 'removed!']);\n",
       "            Plotly.purge(gd);\n",
       "            observer.disconnect();\n",
       "        }}\n",
       "}});\n",
       "\n",
       "// Listen for the removal of the full notebook cells\n",
       "var notebookContainer = gd.closest('#notebook-container');\n",
       "if (notebookContainer) {{\n",
       "    x.observe(notebookContainer, {childList: true});\n",
       "}}\n",
       "\n",
       "// Listen for the clearing of the current output cell\n",
       "var outputEl = gd.closest('.output');\n",
       "if (outputEl) {{\n",
       "    x.observe(outputEl, {childList: true});\n",
       "}}\n",
       "\n",
       "                        })                };                });            </script>        </div>"
      ]
     },
     "metadata": {},
     "output_type": "display_data"
    }
   ],
   "source": [
    "fingerprint_barplot(fp_focused)"
   ]
  },
  {
   "cell_type": "markdown",
   "metadata": {},
   "source": [
    "#### Heatmap"
   ]
  },
  {
   "cell_type": "code",
   "execution_count": 34,
   "metadata": {},
   "outputs": [
    {
     "ename": "ValueError",
     "evalue": "could not convert string to float: 'P1_prime'",
     "output_type": "error",
     "traceback": [
      "\u001B[0;31m---------------------------------------------------------------------------\u001B[0m",
      "\u001B[0;31mValueError\u001B[0m                                Traceback (most recent call last)",
      "Cell \u001B[0;32mIn[34], line 1\u001B[0m\n\u001B[0;32m----> 1\u001B[0m \u001B[43mfingerprint_heatmap\u001B[49m\u001B[43m(\u001B[49m\u001B[43mfp_focused\u001B[49m\u001B[43m,\u001B[49m\u001B[43m \u001B[49m\u001B[43mcmap\u001B[49m\u001B[38;5;241;43m=\u001B[39;49m\u001B[38;5;124;43m\"\u001B[39;49m\u001B[38;5;124;43mYlGnBu\u001B[39;49m\u001B[38;5;124;43m\"\u001B[39;49m\u001B[43m)\u001B[49m;\n",
      "File \u001B[0;32m~/Scientific_Projects/plipify/plipify/visualization.py:78\u001B[0m, in \u001B[0;36mfingerprint_heatmap\u001B[0;34m(fingerprint_df, cmap)\u001B[0m\n\u001B[1;32m     69\u001B[0m \u001B[38;5;124;03m\"\"\"\u001B[39;00m\n\u001B[1;32m     70\u001B[0m \u001B[38;5;124;03mVisualize fingerprint as heatmap either based on count or fp_type.\u001B[39;00m\n\u001B[1;32m     71\u001B[0m \n\u001B[0;32m   (...)\u001B[0m\n\u001B[1;32m     75\u001B[0m \n\u001B[1;32m     76\u001B[0m \u001B[38;5;124;03m\"\"\"\u001B[39;00m\n\u001B[1;32m     77\u001B[0m fig, ax \u001B[38;5;241m=\u001B[39m plt\u001B[38;5;241m.\u001B[39msubplots(figsize\u001B[38;5;241m=\u001B[39m(\u001B[38;5;241m10\u001B[39m, \u001B[38;5;241m7\u001B[39m))  \u001B[38;5;66;03m# plot size\u001B[39;00m\n\u001B[0;32m---> 78\u001B[0m \u001B[43msns\u001B[49m\u001B[38;5;241;43m.\u001B[39;49m\u001B[43mheatmap\u001B[49m\u001B[43m(\u001B[49m\u001B[43mfingerprint_df\u001B[49m\u001B[43m,\u001B[49m\u001B[43m \u001B[49m\u001B[43mannot\u001B[49m\u001B[38;5;241;43m=\u001B[39;49m\u001B[38;5;28;43;01mTrue\u001B[39;49;00m\u001B[43m,\u001B[49m\u001B[43m \u001B[49m\u001B[43mcmap\u001B[49m\u001B[38;5;241;43m=\u001B[39;49m\u001B[43mcmap\u001B[49m\u001B[43m,\u001B[49m\u001B[43m \u001B[49m\u001B[43max\u001B[49m\u001B[38;5;241;43m=\u001B[39;49m\u001B[43max\u001B[49m\u001B[43m,\u001B[49m\u001B[43m \u001B[49m\u001B[43mfmt\u001B[49m\u001B[38;5;241;43m=\u001B[39;49m\u001B[38;5;124;43m\"\u001B[39;49m\u001B[38;5;124;43mg\u001B[39;49m\u001B[38;5;124;43m\"\u001B[39;49m\u001B[43m)\u001B[49m\n\u001B[1;32m     79\u001B[0m ax\u001B[38;5;241m.\u001B[39mset_xlabel(\u001B[38;5;124m\"\u001B[39m\u001B[38;5;124mInteraction Types\u001B[39m\u001B[38;5;124m\"\u001B[39m)\n\u001B[1;32m     80\u001B[0m ax\u001B[38;5;241m.\u001B[39mset_ylabel(\u001B[38;5;124m\"\u001B[39m\u001B[38;5;124mResidues\u001B[39m\u001B[38;5;124m\"\u001B[39m)\n",
      "File \u001B[0;32m~/opt/anaconda3/envs/plipify/lib/python3.8/site-packages/seaborn/matrix.py:446\u001B[0m, in \u001B[0;36mheatmap\u001B[0;34m(data, vmin, vmax, cmap, center, robust, annot, fmt, annot_kws, linewidths, linecolor, cbar, cbar_kws, cbar_ax, square, xticklabels, yticklabels, mask, ax, **kwargs)\u001B[0m\n\u001B[1;32m    365\u001B[0m \u001B[38;5;124;03m\"\"\"Plot rectangular data as a color-encoded matrix.\u001B[39;00m\n\u001B[1;32m    366\u001B[0m \n\u001B[1;32m    367\u001B[0m \u001B[38;5;124;03mThis is an Axes-level function and will draw the heatmap into the\u001B[39;00m\n\u001B[0;32m   (...)\u001B[0m\n\u001B[1;32m    443\u001B[0m \n\u001B[1;32m    444\u001B[0m \u001B[38;5;124;03m\"\"\"\u001B[39;00m\n\u001B[1;32m    445\u001B[0m \u001B[38;5;66;03m# Initialize the plotter object\u001B[39;00m\n\u001B[0;32m--> 446\u001B[0m plotter \u001B[38;5;241m=\u001B[39m \u001B[43m_HeatMapper\u001B[49m\u001B[43m(\u001B[49m\u001B[43mdata\u001B[49m\u001B[43m,\u001B[49m\u001B[43m \u001B[49m\u001B[43mvmin\u001B[49m\u001B[43m,\u001B[49m\u001B[43m \u001B[49m\u001B[43mvmax\u001B[49m\u001B[43m,\u001B[49m\u001B[43m \u001B[49m\u001B[43mcmap\u001B[49m\u001B[43m,\u001B[49m\u001B[43m \u001B[49m\u001B[43mcenter\u001B[49m\u001B[43m,\u001B[49m\u001B[43m \u001B[49m\u001B[43mrobust\u001B[49m\u001B[43m,\u001B[49m\u001B[43m \u001B[49m\u001B[43mannot\u001B[49m\u001B[43m,\u001B[49m\u001B[43m \u001B[49m\u001B[43mfmt\u001B[49m\u001B[43m,\u001B[49m\n\u001B[1;32m    447\u001B[0m \u001B[43m                      \u001B[49m\u001B[43mannot_kws\u001B[49m\u001B[43m,\u001B[49m\u001B[43m \u001B[49m\u001B[43mcbar\u001B[49m\u001B[43m,\u001B[49m\u001B[43m \u001B[49m\u001B[43mcbar_kws\u001B[49m\u001B[43m,\u001B[49m\u001B[43m \u001B[49m\u001B[43mxticklabels\u001B[49m\u001B[43m,\u001B[49m\n\u001B[1;32m    448\u001B[0m \u001B[43m                      \u001B[49m\u001B[43myticklabels\u001B[49m\u001B[43m,\u001B[49m\u001B[43m \u001B[49m\u001B[43mmask\u001B[49m\u001B[43m)\u001B[49m\n\u001B[1;32m    450\u001B[0m \u001B[38;5;66;03m# Add the pcolormesh kwargs here\u001B[39;00m\n\u001B[1;32m    451\u001B[0m kwargs[\u001B[38;5;124m\"\u001B[39m\u001B[38;5;124mlinewidths\u001B[39m\u001B[38;5;124m\"\u001B[39m] \u001B[38;5;241m=\u001B[39m linewidths\n",
      "File \u001B[0;32m~/opt/anaconda3/envs/plipify/lib/python3.8/site-packages/seaborn/matrix.py:163\u001B[0m, in \u001B[0;36m_HeatMapper.__init__\u001B[0;34m(self, data, vmin, vmax, cmap, center, robust, annot, fmt, annot_kws, cbar, cbar_kws, xticklabels, yticklabels, mask)\u001B[0m\n\u001B[1;32m    160\u001B[0m \u001B[38;5;28mself\u001B[39m\u001B[38;5;241m.\u001B[39mylabel \u001B[38;5;241m=\u001B[39m ylabel \u001B[38;5;28;01mif\u001B[39;00m ylabel \u001B[38;5;129;01mis\u001B[39;00m \u001B[38;5;129;01mnot\u001B[39;00m \u001B[38;5;28;01mNone\u001B[39;00m \u001B[38;5;28;01melse\u001B[39;00m \u001B[38;5;124m\"\u001B[39m\u001B[38;5;124m\"\u001B[39m\n\u001B[1;32m    162\u001B[0m \u001B[38;5;66;03m# Determine good default values for the colormapping\u001B[39;00m\n\u001B[0;32m--> 163\u001B[0m \u001B[38;5;28;43mself\u001B[39;49m\u001B[38;5;241;43m.\u001B[39;49m\u001B[43m_determine_cmap_params\u001B[49m\u001B[43m(\u001B[49m\u001B[43mplot_data\u001B[49m\u001B[43m,\u001B[49m\u001B[43m \u001B[49m\u001B[43mvmin\u001B[49m\u001B[43m,\u001B[49m\u001B[43m \u001B[49m\u001B[43mvmax\u001B[49m\u001B[43m,\u001B[49m\n\u001B[1;32m    164\u001B[0m \u001B[43m                            \u001B[49m\u001B[43mcmap\u001B[49m\u001B[43m,\u001B[49m\u001B[43m \u001B[49m\u001B[43mcenter\u001B[49m\u001B[43m,\u001B[49m\u001B[43m \u001B[49m\u001B[43mrobust\u001B[49m\u001B[43m)\u001B[49m\n\u001B[1;32m    166\u001B[0m \u001B[38;5;66;03m# Sort out the annotations\u001B[39;00m\n\u001B[1;32m    167\u001B[0m \u001B[38;5;28;01mif\u001B[39;00m annot \u001B[38;5;129;01mis\u001B[39;00m \u001B[38;5;28;01mNone\u001B[39;00m \u001B[38;5;129;01mor\u001B[39;00m annot \u001B[38;5;129;01mis\u001B[39;00m \u001B[38;5;28;01mFalse\u001B[39;00m:\n",
      "File \u001B[0;32m~/opt/anaconda3/envs/plipify/lib/python3.8/site-packages/seaborn/matrix.py:197\u001B[0m, in \u001B[0;36m_HeatMapper._determine_cmap_params\u001B[0;34m(self, plot_data, vmin, vmax, cmap, center, robust)\u001B[0m\n\u001B[1;32m    194\u001B[0m \u001B[38;5;124;03m\"\"\"Use some heuristics to set good defaults for colorbar and range.\"\"\"\u001B[39;00m\n\u001B[1;32m    196\u001B[0m \u001B[38;5;66;03m# plot_data is a np.ma.array instance\u001B[39;00m\n\u001B[0;32m--> 197\u001B[0m calc_data \u001B[38;5;241m=\u001B[39m \u001B[43mplot_data\u001B[49m\u001B[38;5;241;43m.\u001B[39;49m\u001B[43mastype\u001B[49m\u001B[43m(\u001B[49m\u001B[38;5;28;43mfloat\u001B[39;49m\u001B[43m)\u001B[49m\u001B[38;5;241m.\u001B[39mfilled(np\u001B[38;5;241m.\u001B[39mnan)\n\u001B[1;32m    198\u001B[0m \u001B[38;5;28;01mif\u001B[39;00m vmin \u001B[38;5;129;01mis\u001B[39;00m \u001B[38;5;28;01mNone\u001B[39;00m:\n\u001B[1;32m    199\u001B[0m     \u001B[38;5;28;01mif\u001B[39;00m robust:\n",
      "\u001B[0;31mValueError\u001B[0m: could not convert string to float: 'P1_prime'"
     ]
    },
    {
     "data": {
      "image/png": "[encoded data removed]",
      "text/plain": [
       "<Figure size 1000x700 with 1 Axes>"
      ]
     },
     "metadata": {},
     "output_type": "display_data"
    }
   ],
   "source": [
    "fingerprint_heatmap(fp_focused, cmap=\"YlGnBu\");"
   ]
  },
  {
   "cell_type": "markdown",
   "metadata": {},
   "source": [
    "#### Table\n",
    "Reminder: we did not use structrue[0] during calculation because of the occuring mutation."
   ]
  },
  {
   "cell_type": "code",
   "execution_count": 35,
   "metadata": {},
   "outputs": [
    {
     "ename": "NameError",
     "evalue": "name 'structures' is not defined",
     "output_type": "error",
     "traceback": [
      "\u001B[0;31m---------------------------------------------------------------------------\u001B[0m",
      "\u001B[0;31mNameError\u001B[0m                                 Traceback (most recent call last)",
      "Cell \u001B[0;32mIn[35], line 1\u001B[0m\n\u001B[0;32m----> 1\u001B[0m mytable \u001B[38;5;241m=\u001B[39m fingerprint_table(fingerprint_df\u001B[38;5;241m=\u001B[39mfp_focused, structure\u001B[38;5;241m=\u001B[39m\u001B[43mstructures\u001B[49m[\u001B[38;5;241m0\u001B[39m])\n",
      "\u001B[0;31mNameError\u001B[0m: name 'structures' is not defined"
     ]
    }
   ],
   "source": [
    "mytable = fingerprint_table(fingerprint_df=fp_focused, structure=structures[0])"
   ]
  },
  {
   "cell_type": "code",
   "execution_count": null,
   "metadata": {},
   "outputs": [],
   "source": [
    "mytable"
   ]
  },
  {
   "cell_type": "code",
   "execution_count": null,
   "metadata": {},
   "outputs": [],
   "source": [
    "type(mytable)"
   ]
  },
  {
   "cell_type": "code",
   "execution_count": null,
   "metadata": {},
   "outputs": [],
   "source": [
    "mytable."
   ]
  },
  {
   "cell_type": "code",
   "execution_count": null,
   "metadata": {},
   "outputs": [],
   "source": [
    "from ipywidgets.embed import embed_minimal_html"
   ]
  },
  {
   "cell_type": "code",
   "execution_count": null,
   "metadata": {},
   "outputs": [],
   "source": [
    "embed_minimal_html(\"plipify.html\", mytable)"
   ]
  },
  {
   "cell_type": "markdown",
   "metadata": {},
   "source": [
    "## split by pocket"
   ]
  },
  {
   "cell_type": "code",
   "execution_count": null,
   "metadata": {},
   "outputs": [],
   "source": [
    "import plotly.express as px"
   ]
  },
  {
   "cell_type": "code",
   "execution_count": null,
   "metadata": {},
   "outputs": [],
   "source": [
    "fp_px = fp_focused.replace(np.nan, \"Other\")"
   ]
  },
  {
   "cell_type": "code",
   "execution_count": null,
   "metadata": {},
   "outputs": [],
   "source": [
    "normalized = fp_px / fp_px.sum()"
   ]
  },
  {
   "cell_type": "code",
   "execution_count": null,
   "metadata": {},
   "outputs": [],
   "source": [
    "fp_px.sum(axis=1, numeric_only=True)"
   ]
  },
  {
   "cell_type": "code",
   "execution_count": null,
   "metadata": {},
   "outputs": [],
   "source": [
    "fp_focused"
   ]
  },
  {
   "cell_type": "code",
   "execution_count": null,
   "metadata": {},
   "outputs": [],
   "source": [
    "normalized = fp_focused.drop(columns=[\"Pocket\"])"
   ]
  },
  {
   "cell_type": "code",
   "execution_count": null,
   "metadata": {},
   "outputs": [],
   "source": [
    "fp_px = normalized.divide(normalized.sum(axis=1, numeric_only=True), axis=0)\n",
    "fp_px['Pocket'] = fp_focused['Pocket']"
   ]
  },
  {
   "cell_type": "code",
   "execution_count": null,
   "metadata": {},
   "outputs": [],
   "source": [
    "fp_px = fp_px.replace(np.nan, \"Other\")\n",
    "fp_focused['ResID'] = fp_focused.index"
   ]
  },
  {
   "cell_type": "code",
   "execution_count": null,
   "metadata": {},
   "outputs": [],
   "source": []
  },
  {
   "cell_type": "code",
   "execution_count": null,
   "metadata": {},
   "outputs": [],
   "source": [
    "fp_px = fp_focused.melt(id_vars=['ResID', 'Pocket'], var_name='Type', value_name='Count')\n",
    "fp_px = fp_px.replace(np.nan, \"Other\")\n",
    "fp_px.sort_values('ResID')\n",
    "# fp_px = fp_px[fp_px.Count > 10]\n",
    "fp_px = fp_px[fp_px.Pocket != 'Other']\n",
    "fig = px.bar(fp_px, x='ResID', y='Count', color='Type', facet_row='Pocket', \n",
    "             height=1200, width=800, category_orders = {'Pocket': pocket_definitions.keys()}, \n",
    "             text_auto=True, \n",
    "             barmode='group'\n",
    "            )\n",
    "fig.update_xaxes(type='category', matches=None, showticklabels=True)\n",
    "# fig.update_yaxes(matches=None)\n",
    "fig.update_traces(textposition=\"auto\", cliponaxis=False)\n",
    "fig.update_layout(uniformtext_minsize=12, uniformtext_mode='show')\n",
    "# fig.write_image(\"plipify_pocket_faceted.png\")"
   ]
  },
  {
   "cell_type": "code",
   "execution_count": null,
   "metadata": {},
   "outputs": [],
   "source": [
    "for pocket, array in pocket_definitions.items():\n",
    "    df = fp_px[fp_px['Pocket'] == pocket].drop(columns='Pocket')\n",
    "    fig = px.bar(df, x='ResID', y='Count', color='Type')\n",
    "    fig.update_xaxes(type='category')\n",
    "    fig.show()"
   ]
  },
  {
   "cell_type": "code",
   "execution_count": null,
   "metadata": {},
   "outputs": [],
   "source": []
  }
 ],
 "metadata": {
  "kernelspec": {
   "display_name": "Python 3 (ipykernel)",
   "language": "python",
   "name": "python3"
  },
  "language_info": {
   "codemirror_mode": {
    "name": "ipython",
    "version": 3
   },
   "file_extension": ".py",
   "mimetype": "text/x-python",
   "name": "python",
   "nbconvert_exporter": "python",
   "pygments_lexer": "ipython3",
   "version": "3.8.15"
  },
  "toc": {
   "base_numbering": 1,
   "nav_menu": {},
   "number_sections": true,
   "sideBar": true,
   "skip_h1_title": false,
   "title_cell": "Table of Contents",
   "title_sidebar": "Contents",
   "toc_cell": false,
   "toc_position": {
    "height": "calc(100% - 180px)",
    "left": "10px",
    "top": "150px",
    "width": "350.398px"
   },
   "toc_section_display": true,
   "toc_window_display": true
  }
 },
 "nbformat": 4,
 "nbformat_minor": 1
}