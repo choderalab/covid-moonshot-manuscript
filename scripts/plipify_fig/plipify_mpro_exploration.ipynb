{
 "cells": [
  {
   "cell_type": "markdown",
   "metadata": {
    "collapsed": true
   },
   "source": [
    "# Imports"
   ]
  },
  {
   "cell_type": "code",
   "execution_count": null,
   "metadata": {},
   "outputs": [],
   "source": [
    "from glob import glob\n",
    "from pathlib import Path\n",
    "import shutil\n",
    "from tqdm import tqdm\n",
    "import os\n",
    "import numpy as np\n",
    "\n",
    "from io import BytesIO\n",
    "from zipfile import ZipFile\n",
    "from subprocess import call, STDOUT\n",
    "from urllib.request import urlopen\n",
    "\n",
    "\n",
    "import requests\n",
    "from matplotlib import cm, colors\n",
    "from IPython.display import Image\n",
    "import pandas as pd\n",
    "from rdkit.Chem.PandasTools import AddMoleculeColumnToFrame\n",
    "from Bio.PDB import PDBParser, PDBIO\n",
    "import nglview as nv\n",
    "\n",
    "from plipify.fingerprints import InteractionFingerprint\n",
    "from plipify.visualization import (\n",
    "    fingerprint_barplot, fingerprint_heatmap, fingerprint_table, \n",
    "    fingerprint_nglview, PymolVisualizer, nglview_color_side_chains_by_frequency,\n",
    "    fingerprint_writepdb\n",
    ")\n",
    "from plipify.core import Structure"
   ]
  },
  {
   "cell_type": "code",
   "execution_count": null,
   "metadata": {},
   "outputs": [],
   "source": [
    "import importlib"
   ]
  },
  {
   "cell_type": "code",
   "execution_count": null,
   "metadata": {},
   "outputs": [],
   "source": [
    "importlib.reload(px)"
   ]
  },
  {
   "cell_type": "markdown",
   "metadata": {},
   "source": [
    "## paths"
   ]
  },
  {
   "cell_type": "code",
   "execution_count": null,
   "metadata": {},
   "outputs": [],
   "source": [
    "input_glob = \"/Volumes/Rohirrim/local_test/full_frag_prepped_mpro_20221219/*/prepped_receptor_0.pdb\"\n",
    "input_glob = \"/Volumes/Rohirrim/local_test/full_frag_prepped_mpro_20221219/*/prepped_receptor_0.pdb\"\n",
    "output_path = Path(\"/Volumes/Rohirrim/local_test/plipify_result\")\n",
    "if not output_path.exists():\n",
    "    Path.mkdir(output_path)"
   ]
  },
  {
   "cell_type": "markdown",
   "metadata": {},
   "source": [
    "## pocket definitions"
   ]
  },
  {
   "cell_type": "code",
   "execution_count": null,
   "metadata": {},
   "outputs": [],
   "source": [
    "pocket_definitions = {'P1': np.array([140,\n",
    "                             141,\n",
    "                             142,\n",
    "                             143,\n",
    "                             144,\n",
    "                             145,\n",
    "                             163,\n",
    "                                      164,\n",
    "                             172]),\n",
    "                      'P1_prime': np.array([25,26,27]),\n",
    "                      'P2': np.array([41,49,54, 187]),\n",
    "                      'P3_4_5': np.array([165,166,167,168,189,190,191,192])}"
   ]
  },
  {
   "cell_type": "markdown",
   "metadata": {},
   "source": [
    "# Load Structures"
   ]
  },
  {
   "cell_type": "code",
   "execution_count": null,
   "metadata": {},
   "outputs": [],
   "source": [
    "structure_paths = [Path(fn) for fn in glob(input_glob)]\n",
    "# structure_paths = structure_paths[0:10]\n",
    "print(len(structure_paths))"
   ]
  },
  {
   "cell_type": "code",
   "execution_count": null,
   "metadata": {},
   "outputs": [],
   "source": [
    "mypath = structure_paths[0]"
   ]
  },
  {
   "cell_type": "code",
   "execution_count": null,
   "metadata": {},
   "outputs": [],
   "source": [
    "mypath.parent.name"
   ]
  },
  {
   "cell_type": "markdown",
   "metadata": {},
   "source": [
    "## make new protein fns and load"
   ]
  },
  {
   "cell_type": "code",
   "execution_count": null,
   "metadata": {},
   "outputs": [],
   "source": [
    "new_paths = [structure_path.with_name(structure_path.parent.name).with_suffix(structure_path.suffix) for structure_path in structure_paths]\n",
    "print(len(new_paths))"
   ]
  },
  {
   "cell_type": "code",
   "execution_count": null,
   "metadata": {},
   "outputs": [],
   "source": [
    "## make new filenames and load structure objects\n",
    "structures = []\n",
    "for structure_path, new_path in tqdm(zip(structure_paths, new_paths), total=len(structure_paths)):\n",
    "    if not new_path.exists():\n",
    "        shutil.copy(structure_path, new_path)\n",
    "    structures.append(Structure.from_pdbfile(str(new_path), ligand_name=\"LIG\"))\n",
    "print(f\"Loaded {len(structures)} structures.\")"
   ]
  },
  {
   "cell_type": "markdown",
   "metadata": {},
   "source": [
    "# Calculate Fingerprint"
   ]
  },
  {
   "cell_type": "code",
   "execution_count": null,
   "metadata": {},
   "outputs": [],
   "source": [
    "## A bunch of filtering\n",
    "lengths = pd.DataFrame([((s.identifier), len(s.sequence())) for s in structures], columns=[\"identifier\", \"length\"])\n",
    "# Remove entries where the difference sequence length - median sequence length is greater than one standard deviation\n",
    "print('Sequence length median and std: ', lengths.length.median(), lengths.length.std())"
   ]
  },
  {
   "cell_type": "code",
   "execution_count": null,
   "metadata": {},
   "outputs": [],
   "source": [
    "lengths = lengths[(lengths.length - lengths.length.median()).abs() < lengths.length.std()]\n",
    "filtered_structures = [s for s in structures if s.identifier in set(lengths.identifier.tolist())]\n",
    "print(len(structure_fns), \"->\", len(structures), \"->\", len(filtered_structures), \"=\", len(structure_fns) - len(filtered_structures),\n",
    "      \"structures filtered out\")\n",
    "\n",
    "structure_name_type_dict = {'Mpro-P': 0, 'Mpro-x': 0, 'Mpro-z': 0, 'other': 0}\n",
    "print(structure_name_type_dict.keys())\n",
    "for s in structures:\n",
    "    name_code = s.identifier[0:6]\n",
    "    print(name_code)\n",
    "    if name_code in structure_name_type_dict.keys():\n",
    "        structure_name_type_dict[name_code] += 1\n",
    "    else:\n",
    "        structure_name_type_dict['other'] += 1\n",
    "print(structure_name_type_dict)"
   ]
  },
  {
   "cell_type": "code",
   "execution_count": null,
   "metadata": {},
   "outputs": [],
   "source": [
    "# Review\n",
    "fp = InteractionFingerprint().calculate_fingerprint(\n",
    "    filtered_structures,\n",
    "    labeled=True,\n",
    "    as_dataframe=True,\n",
    "    remove_non_interacting_residues=True,\n",
    "    remove_empty_interaction_types=True,\n",
    "    ensure_same_sequence=False\n",
    ")"
   ]
  },
  {
   "cell_type": "markdown",
   "metadata": {},
   "source": [
    "## filter results"
   ]
  },
  {
   "cell_type": "code",
   "execution_count": null,
   "metadata": {},
   "outputs": [],
   "source": [
    "# filter out some of the low counts\n",
    "fp_focused = fp[fp.sum(axis=1) > 5]"
   ]
  },
  {
   "cell_type": "markdown",
   "metadata": {},
   "source": [
    "## write out csv file"
   ]
  },
  {
   "cell_type": "code",
   "execution_count": null,
   "metadata": {},
   "outputs": [],
   "source": [
    "out_csv = output_path.joinpath(\"plipify_results.csv\")\n",
    "fp_focused.to_csv(out_csv)"
   ]
  },
  {
   "cell_type": "code",
   "execution_count": null,
   "metadata": {},
   "outputs": [],
   "source": [
    "type(fp_focused)"
   ]
  },
  {
   "cell_type": "code",
   "execution_count": null,
   "metadata": {},
   "outputs": [],
   "source": [
    "fp_focused.style.background_gradient(axis=None, cmap=\"YlGnBu\")"
   ]
  },
  {
   "cell_type": "markdown",
   "metadata": {},
   "source": [
    "## add pocket info to fp dataframe"
   ]
  },
  {
   "cell_type": "code",
   "execution_count": null,
   "metadata": {},
   "outputs": [],
   "source": [
    "fp_focused.index"
   ]
  },
  {
   "cell_type": "code",
   "execution_count": null,
   "metadata": {},
   "outputs": [],
   "source": [
    "fp_focused.index.isin(pocket_definitions['P1'])"
   ]
  },
  {
   "cell_type": "code",
   "execution_count": null,
   "metadata": {},
   "outputs": [],
   "source": [
    "for pocket, resarray in pocket_definitions.items():\n",
    "    fp_focused.loc[fp_focused.index.isin(resarray), 'Pocket'] = pocket"
   ]
  },
  {
   "cell_type": "code",
   "execution_count": null,
   "metadata": {},
   "outputs": [],
   "source": [
    "fp_focused"
   ]
  },
  {
   "cell_type": "markdown",
   "metadata": {},
   "source": [
    "## not cumulative"
   ]
  },
  {
   "cell_type": "code",
   "execution_count": null,
   "metadata": {},
   "outputs": [],
   "source": [
    "# Review\n",
    "fp_not_cumulative = InteractionFingerprint().calculate_fingerprint(\n",
    "    filtered_structures,\n",
    "    cumulative=False,\n",
    "    labeled=True,\n",
    "    as_dataframe=True,\n",
    "    remove_non_interacting_residues=True,\n",
    "    remove_empty_interaction_types=True,\n",
    "    ensure_same_sequence=False\n",
    ")"
   ]
  },
  {
   "cell_type": "code",
   "execution_count": null,
   "metadata": {},
   "outputs": [],
   "source": [
    "np.shape(fp_not_cumulative)"
   ]
  },
  {
   "cell_type": "code",
   "execution_count": null,
   "metadata": {},
   "outputs": [],
   "source": [
    "fp_not_cumulative[0][0].label['residue'].structure.identifier"
   ]
  },
  {
   "cell_type": "code",
   "execution_count": null,
   "metadata": {},
   "outputs": [],
   "source": [
    "fp_not_cumulative[0][0].label['residue'].seq_index"
   ]
  },
  {
   "cell_type": "markdown",
   "metadata": {},
   "source": [
    "# which structures are returning non labeled active site residues?"
   ]
  },
  {
   "cell_type": "code",
   "execution_count": null,
   "metadata": {},
   "outputs": [],
   "source": [
    "wacky_residues = fp_focused.index[fp_focused.Pocket.isna()]"
   ]
  },
  {
   "cell_type": "code",
   "execution_count": null,
   "metadata": {},
   "outputs": [],
   "source": [
    "wacky_interactions = []\n",
    "for structure in fp_not_cumulative:\n",
    "    for interaction in structure:\n",
    "        if interaction.label['residue'].seq_index in wacky_residues:\n",
    "            if interaction.value > 0:\n",
    "                wacky_interactions.append(interaction)"
   ]
  },
  {
   "cell_type": "code",
   "execution_count": null,
   "metadata": {},
   "outputs": [],
   "source": [
    "wacky_structures = []\n",
    "for interaction in wacky_interactions:\n",
    "    print(interaction.label['residue'].identifier, \n",
    "          interaction.value, interaction.label['type'],\n",
    "          interaction.label['residue'].structure.identifier)\n",
    "    wacky_structures.append(interaction.label['residue'].structure.identifier)"
   ]
  },
  {
   "cell_type": "code",
   "execution_count": null,
   "metadata": {},
   "outputs": [],
   "source": [
    "set(wacky_structures)"
   ]
  },
  {
   "cell_type": "markdown",
   "metadata": {},
   "source": [
    "# Visualization"
   ]
  },
  {
   "cell_type": "markdown",
   "metadata": {},
   "source": [
    "## Analyze and visualize the results\n",
    "\n",
    "* First, we will look at the different representations for the interation hot spots.\n",
    "* Then, we will visualize the interactions in 3D\n",
    "    * nglview\n",
    "    * pymol"
   ]
  },
  {
   "cell_type": "markdown",
   "metadata": {},
   "source": [
    "### Interaction visualizations: Barplot, heatmap and table\n",
    "\n",
    "`plipify` provides several views for the aggregated interaction fingerprints."
   ]
  },
  {
   "cell_type": "markdown",
   "metadata": {},
   "source": [
    "#### Barplot"
   ]
  },
  {
   "cell_type": "code",
   "execution_count": null,
   "metadata": {},
   "outputs": [],
   "source": [
    "fingerprint_barplot(fp_focused)"
   ]
  },
  {
   "cell_type": "markdown",
   "metadata": {},
   "source": [
    "#### Heatmap"
   ]
  },
  {
   "cell_type": "code",
   "execution_count": null,
   "metadata": {},
   "outputs": [],
   "source": [
    "fingerprint_heatmap(fp_focused, cmap=\"YlGnBu\");"
   ]
  },
  {
   "cell_type": "markdown",
   "metadata": {},
   "source": [
    "#### Table\n",
    "Reminder: we did not use structrue[0] during calculation because of the occuring mutation."
   ]
  },
  {
   "cell_type": "code",
   "execution_count": null,
   "metadata": {},
   "outputs": [],
   "source": [
    "mytable = fingerprint_table(fingerprint_df=fp_focused, structure=structures[0])"
   ]
  },
  {
   "cell_type": "code",
   "execution_count": null,
   "metadata": {},
   "outputs": [],
   "source": [
    "mytable"
   ]
  },
  {
   "cell_type": "code",
   "execution_count": null,
   "metadata": {},
   "outputs": [],
   "source": [
    "type(mytable)"
   ]
  },
  {
   "cell_type": "code",
   "execution_count": null,
   "metadata": {},
   "outputs": [],
   "source": [
    "mytable."
   ]
  },
  {
   "cell_type": "code",
   "execution_count": null,
   "metadata": {},
   "outputs": [],
   "source": [
    "from ipywidgets.embed import embed_minimal_html"
   ]
  },
  {
   "cell_type": "code",
   "execution_count": null,
   "metadata": {},
   "outputs": [],
   "source": [
    "embed_minimal_html(\"plipify.html\", mytable)"
   ]
  },
  {
   "cell_type": "markdown",
   "metadata": {},
   "source": [
    "## split by pocket"
   ]
  },
  {
   "cell_type": "code",
   "execution_count": null,
   "metadata": {},
   "outputs": [],
   "source": [
    "import plotly.express as px"
   ]
  },
  {
   "cell_type": "code",
   "execution_count": null,
   "metadata": {},
   "outputs": [],
   "source": [
    "fp_px = fp_focused.replace(np.nan, \"Other\")"
   ]
  },
  {
   "cell_type": "code",
   "execution_count": null,
   "metadata": {},
   "outputs": [],
   "source": [
    "normalized = fp_px / fp_px.sum()"
   ]
  },
  {
   "cell_type": "code",
   "execution_count": null,
   "metadata": {},
   "outputs": [],
   "source": [
    "fp_px.sum(axis=1, numeric_only=True)"
   ]
  },
  {
   "cell_type": "code",
   "execution_count": null,
   "metadata": {},
   "outputs": [],
   "source": [
    "fp_focused"
   ]
  },
  {
   "cell_type": "code",
   "execution_count": null,
   "metadata": {},
   "outputs": [],
   "source": [
    "normalized = fp_focused.drop(columns=[\"Pocket\"])"
   ]
  },
  {
   "cell_type": "code",
   "execution_count": null,
   "metadata": {},
   "outputs": [],
   "source": [
    "fp_px = normalized.divide(normalized.sum(axis=1, numeric_only=True), axis=0)\n",
    "fp_px['Pocket'] = fp_focused['Pocket']"
   ]
  },
  {
   "cell_type": "code",
   "execution_count": null,
   "metadata": {},
   "outputs": [],
   "source": [
    "fp_px = fp_px.replace(np.nan, \"Other\")\n",
    "fp_focused['ResID'] = fp_focused.index"
   ]
  },
  {
   "cell_type": "code",
   "execution_count": null,
   "metadata": {},
   "outputs": [],
   "source": []
  },
  {
   "cell_type": "code",
   "execution_count": null,
   "metadata": {},
   "outputs": [],
   "source": [
    "fp_px = fp_focused.melt(id_vars=['ResID', 'Pocket'], var_name='Type', value_name='Count')\n",
    "fp_px = fp_px.replace(np.nan, \"Other\")\n",
    "fp_px.sort_values('ResID')\n",
    "# fp_px = fp_px[fp_px.Count > 10]\n",
    "fp_px = fp_px[fp_px.Pocket != 'Other']\n",
    "fig = px.bar(fp_px, x='ResID', y='Count', color='Type', facet_row='Pocket', \n",
    "             height=1200, width=800, category_orders = {'Pocket': pocket_definitions.keys()}, \n",
    "             text_auto=True, \n",
    "             barmode='group'\n",
    "            )\n",
    "fig.update_xaxes(type='category', matches=None, showticklabels=True)\n",
    "# fig.update_yaxes(matches=None)\n",
    "fig.update_traces(textposition=\"auto\", cliponaxis=False)\n",
    "fig.update_layout(uniformtext_minsize=12, uniformtext_mode='show')\n",
    "# fig.write_image(\"plipify_pocket_faceted.png\")"
   ]
  },
  {
   "cell_type": "code",
   "execution_count": null,
   "metadata": {},
   "outputs": [],
   "source": [
    "for pocket, array in pocket_definitions.items():\n",
    "    df = fp_px[fp_px['Pocket'] == pocket].drop(columns='Pocket')\n",
    "    fig = px.bar(df, x='ResID', y='Count', color='Type')\n",
    "    fig.update_xaxes(type='category')\n",
    "    fig.show()"
   ]
  },
  {
   "cell_type": "code",
   "execution_count": null,
   "metadata": {},
   "outputs": [],
   "source": []
  }
 ],
 "metadata": {
  "kernelspec": {
   "display_name": "Python 3 (ipykernel)",
   "language": "python",
   "name": "python3"
  },
  "language_info": {
   "codemirror_mode": {
    "name": "ipython",
    "version": 3
   },
   "file_extension": ".py",
   "mimetype": "text/x-python",
   "name": "python",
   "nbconvert_exporter": "python",
   "pygments_lexer": "ipython3",
   "version": "3.8.15"
  },
  "toc": {
   "base_numbering": 1,
   "nav_menu": {},
   "number_sections": true,
   "sideBar": true,
   "skip_h1_title": false,
   "title_cell": "Table of Contents",
   "title_sidebar": "Contents",
   "toc_cell": false,
   "toc_position": {
    "height": "calc(100% - 180px)",
    "left": "10px",
    "top": "150px",
    "width": "350.398px"
   },
   "toc_section_display": true,
   "toc_window_display": true
  }
 },
 "nbformat": 4,
 "nbformat_minor": 1
}