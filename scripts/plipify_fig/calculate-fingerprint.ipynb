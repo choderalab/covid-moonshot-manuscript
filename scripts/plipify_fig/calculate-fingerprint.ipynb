{
 "cells": [
  {
   "cell_type": "markdown",
   "id": "1e5c6e7b",
   "metadata": {},
   "source": [
    "# Imports"
   ]
  },
  {
   "cell_type": "code",
   "execution_count": null,
   "id": "80e4f5e0",
   "metadata": {},
   "outputs": [],
   "source": [
    "from glob import glob\n",
    "from pathlib import Path\n",
    "import shutil\n",
    "from tqdm import tqdm\n",
    "import os\n",
    "import numpy as np\n",
    "import plotly.express as px\n",
    "\n",
    "from io import BytesIO\n",
    "from zipfile import ZipFile\n",
    "from subprocess import call, STDOUT\n",
    "from urllib.request import urlopen\n",
    "\n",
    "\n",
    "import requests\n",
    "from matplotlib import cm, colors\n",
    "from IPython.display import Image\n",
    "import pandas as pd\n",
    "from rdkit.Chem.PandasTools import AddMoleculeColumnToFrame\n",
    "from Bio.PDB import PDBParser, PDBIO\n",
    "import nglview as nv\n",
    "\n",
    "from plipify.fingerprints import InteractionFingerprint\n",
    "from plipify.visualization import (\n",
    "    fingerprint_barplot, fingerprint_heatmap, fingerprint_table, \n",
    "    fingerprint_nglview, PymolVisualizer, nglview_color_side_chains_by_frequency,\n",
    "    fingerprint_writepdb\n",
    ")\n",
    "from ipywidgets.embed import embed_minimal_html\n",
    "\n",
    "from plipify.core import Structure\n",
    "\n",
    "from html2image import Html2Image\n",
    "import imgkit\n",
    "import yaml"
   ]
  },
  {
   "cell_type": "code",
   "execution_count": null,
   "id": "6d262179",
   "metadata": {},
   "outputs": [],
   "source": [
    "import pickle as pkl"
   ]
  },
  {
   "cell_type": "markdown",
   "id": "591d1cc5",
   "metadata": {},
   "source": [
    "## paths"
   ]
  },
  {
   "cell_type": "code",
   "execution_count": null,
   "id": "29b217ab",
   "metadata": {},
   "outputs": [],
   "source": [
    "pdbs = list(Path(\"/Users/alexpayne/lilac-mount-point/asap-datasets/plipify_prepped_no_header\").glob(\"no_header*.pdb\"))"
   ]
  },
  {
   "cell_type": "code",
   "execution_count": null,
   "id": "8e39bd55",
   "metadata": {},
   "outputs": [],
   "source": [
    "output = Path(\"/Volumes/Rohirrim/local_test/plipify_result_melissa_prepped\")\n",
    "if not os.path.exists(output.resolve()):\n",
    "    os.makedirs(output.resolve())"
   ]
  },
  {
   "cell_type": "markdown",
   "id": "5890a329",
   "metadata": {},
   "source": [
    "# Load structures"
   ]
  },
  {
   "cell_type": "code",
   "execution_count": null,
   "id": "0372a253",
   "metadata": {},
   "outputs": [],
   "source": [
    "structures = []\n",
    "for path in tqdm(pdbs, total=len(pdbs)):\n",
    "    structure = Structure.from_pdbfile(str(path), ligand_name=\"LIG\")\n",
    "\n",
    "    ## Skip structures with multiple binding sites\n",
    "    if len(structure.binding_sites) != 1:\n",
    "        print(\n",
    "            f\"{path.name} contains {len(structure.binding_sites)} binding sites and we want exactly one.\")\n",
    "        continue\n",
    "    structures.append(structure)\n",
    "print(f\"Loaded {len(structures)} structures.\")"
   ]
  },
  {
   "cell_type": "markdown",
   "id": "3ade7811",
   "metadata": {},
   "source": [
    "## save structures to pickle file"
   ]
  },
  {
   "cell_type": "code",
   "execution_count": null,
   "id": "0e0c652b",
   "metadata": {},
   "outputs": [],
   "source": [
    "len(structures)"
   ]
  },
  {
   "cell_type": "code",
   "execution_count": null,
   "id": "5b9122bb",
   "metadata": {},
   "outputs": [],
   "source": [
    "pkl"
   ]
  },
  {
   "cell_type": "code",
   "execution_count": null,
   "id": "965e9602",
   "metadata": {},
   "outputs": [],
   "source": [
    "with open(output / \"structures.pkl\", 'wb') as handle:\n",
    "    pkl.dump(structures, handle)"
   ]
  },
  {
   "cell_type": "markdown",
   "id": "45a16fc9",
   "metadata": {},
   "source": [
    "# Filter the structures"
   ]
  },
  {
   "cell_type": "markdown",
   "id": "ba166364",
   "metadata": {},
   "source": [
    "## get length and gap info"
   ]
  },
  {
   "cell_type": "code",
   "execution_count": null,
   "id": "1e782065",
   "metadata": {},
   "outputs": [],
   "source": [
    "lengths = pd.DataFrame([((s.identifier), len(s.sequence()), s.sequence()) for s in structures],\n",
    "                           columns=[\"identifier\", \"length\", \"sequence\"])\n",
    "lengths[\"gapcount\"] = lengths.sequence.str.count('-')\n",
    "print('Sequence length median and std: ', lengths.length.median(), lengths.length.std())"
   ]
  },
  {
   "cell_type": "markdown",
   "id": "588009d8",
   "metadata": {},
   "source": [
    "## remove based on length"
   ]
  },
  {
   "cell_type": "code",
   "execution_count": null,
   "id": "b38c7cd4",
   "metadata": {},
   "outputs": [],
   "source": [
    "lengths_filtered = lengths[(lengths.length - lengths.length.median()).abs() <= lengths.length.std()]"
   ]
  },
  {
   "cell_type": "code",
   "execution_count": null,
   "id": "4d58fb60",
   "metadata": {},
   "outputs": [],
   "source": [
    "print(f\"{len(lengths) - len(lengths_filtered)} sequences removed due to length\")"
   ]
  },
  {
   "cell_type": "markdown",
   "id": "3a67e8b1",
   "metadata": {},
   "source": [
    "### plot lengths"
   ]
  },
  {
   "cell_type": "code",
   "execution_count": null,
   "id": "215876dc",
   "metadata": {},
   "outputs": [],
   "source": [
    "px.histogram(lengths.length)"
   ]
  },
  {
   "cell_type": "code",
   "execution_count": null,
   "id": "5837a1f9",
   "metadata": {},
   "outputs": [],
   "source": [
    "px.histogram(lengths_filtered.length)"
   ]
  },
  {
   "cell_type": "markdown",
   "id": "30ed9942",
   "metadata": {},
   "source": [
    "## filter sequences with gaps"
   ]
  },
  {
   "cell_type": "code",
   "execution_count": null,
   "id": "43ec630a",
   "metadata": {},
   "outputs": [],
   "source": [
    "lengths_no_gaps = lengths_filtered[lengths_filtered.gapcount == 0]"
   ]
  },
  {
   "cell_type": "code",
   "execution_count": null,
   "id": "9ca233c1",
   "metadata": {},
   "outputs": [],
   "source": [
    "print(f\"{len(lengths_no_gaps) - len(lengths_filtered)} additional sequences filtered due to gaps\")"
   ]
  },
  {
   "cell_type": "markdown",
   "id": "14c5331f",
   "metadata": {},
   "source": [
    "## filter the structure list"
   ]
  },
  {
   "cell_type": "code",
   "execution_count": null,
   "id": "6cbf96e2",
   "metadata": {},
   "outputs": [],
   "source": [
    "filtered_structures = [s for s in structures if s.identifier in set(lengths_no_gaps.identifier.tolist())]\n",
    "print(len(pdbs), \"->\", len(structures), \"->\", len(filtered_structures), \"=\", len(pdbs) - len(filtered_structures),\n",
    "      \"structures filtered out\")"
   ]
  },
  {
   "cell_type": "code",
   "execution_count": null,
   "id": "87e247ae",
   "metadata": {},
   "outputs": [],
   "source": [
    "structure_name_type_dict = {'Mpro-P': 0, 'Mpro-x': 0, 'Mpro-z': 0, 'other': 0}\n",
    "print(structure_name_type_dict.keys())\n",
    "for s in filtered_structures:\n",
    "    name_code = s.identifier[0:6]\n",
    "    identified = False\n",
    "    for name_code in structure_name_type_dict.keys():\n",
    "        if name_code in s.identifier:\n",
    "            structure_name_type_dict[name_code] += 1\n",
    "            identified = True\n",
    "    if identified == False:\n",
    "        structure_name_type_dict['other'] += 1\n",
    "print(structure_name_type_dict)"
   ]
  },
  {
   "cell_type": "markdown",
   "id": "8d54d676",
   "metadata": {},
   "source": [
    "# Calculate residue mapping"
   ]
  },
  {
   "cell_type": "code",
   "execution_count": null,
   "id": "127f14f6",
   "metadata": {},
   "outputs": [],
   "source": [
    "residue_indices = InteractionFingerprint.calculate_indices_mapping(filtered_structures)"
   ]
  },
  {
   "cell_type": "markdown",
   "id": "e3d433ed",
   "metadata": {},
   "source": [
    "## Save residue mapping"
   ]
  },
  {
   "cell_type": "code",
   "execution_count": null,
   "id": "b22ede8d",
   "metadata": {},
   "outputs": [],
   "source": [
    "with open(output / \"residue_indices_367.pkl\", 'wb') as handle:\n",
    "    pkl.dump(residue_indices, handle)"
   ]
  },
  {
   "cell_type": "code",
   "execution_count": null,
   "id": "6486eb04",
   "metadata": {},
   "outputs": [],
   "source": []
  },
  {
   "cell_type": "markdown",
   "id": "b97e8129",
   "metadata": {},
   "source": [
    "## load residue mapping"
   ]
  },
  {
   "cell_type": "code",
   "execution_count": null,
   "id": "4785887c",
   "metadata": {},
   "outputs": [],
   "source": [
    "with open(output / \"residue_indices_367.pkl\", 'rb') as handle:\n",
    "    loaded_residue_indices = pkl.load(handle)"
   ]
  },
  {
   "cell_type": "markdown",
   "id": "a33efc4d",
   "metadata": {},
   "source": [
    "## check that residue mapping is correct"
   ]
  },
  {
   "cell_type": "code",
   "execution_count": null,
   "id": "68e45ab0",
   "metadata": {},
   "outputs": [],
   "source": [
    "if len(filtered_structures) != len(loaded_residue_indices):\n",
    "    raise ValueError(\n",
    "        f\"Number of residue indices mappings ({len(residue_indices)}) \"\n",
    "        f\"does not match number of structures ({len(structures)})\"\n",
    "    )"
   ]
  },
  {
   "cell_type": "markdown",
   "id": "df1de6cb",
   "metadata": {},
   "source": [
    "# Calculate Fingerprints"
   ]
  },
  {
   "cell_type": "markdown",
   "id": "3c1ab99e",
   "metadata": {},
   "source": [
    "## calculate individual fingerprints"
   ]
  },
  {
   "cell_type": "code",
   "execution_count": null,
   "id": "8c57a65b",
   "metadata": {},
   "outputs": [],
   "source": [
    "fingerprints = InteractionFingerprint().calculate_fingerprint(\n",
    "        filtered_structures,\n",
    "    residue_indices=loaded_residue_indices,\n",
    "        labeled=True,\n",
    "        as_dataframe=False,\n",
    "        remove_non_interacting_residues=True,\n",
    "        remove_empty_interaction_types=True,\n",
    "        ensure_same_sequence=False\n",
    "    )"
   ]
  },
  {
   "cell_type": "markdown",
   "id": "bc0dc1d0",
   "metadata": {},
   "source": [
    "## calculate dataframe"
   ]
  },
  {
   "cell_type": "code",
   "execution_count": null,
   "id": "17817a36",
   "metadata": {},
   "outputs": [],
   "source": [
    "fp = InteractionFingerprint().calculate_fingerprint(\n",
    "        filtered_structures,\n",
    "    residue_indices=loaded_residue_indices,\n",
    "        labeled=True,\n",
    "        as_dataframe=True,\n",
    "        remove_non_interacting_residues=True,\n",
    "        remove_empty_interaction_types=True,\n",
    "        ensure_same_sequence=False\n",
    "    )"
   ]
  },
  {
   "cell_type": "markdown",
   "id": "c58a1c7c",
   "metadata": {},
   "source": [
    "## save results"
   ]
  },
  {
   "cell_type": "code",
   "execution_count": null,
   "id": "dd6b1b53",
   "metadata": {},
   "outputs": [],
   "source": [
    "with open(output / \"fingerprints.pkl\", 'wb') as handle:\n",
    "    pkl.dump(fingerprints, handle)"
   ]
  },
  {
   "cell_type": "code",
   "execution_count": null,
   "id": "5e42ee69",
   "metadata": {},
   "outputs": [],
   "source": [
    "fp.to_csv(output / \"plipify_results.csv\")"
   ]
  },
  {
   "cell_type": "markdown",
   "id": "0231b922",
   "metadata": {},
   "source": [
    "# Get Specific Fingerprint Examples"
   ]
  },
  {
   "cell_type": "markdown",
   "id": "84f81566",
   "metadata": {},
   "source": [
    "## get interaction types"
   ]
  },
  {
   "cell_type": "code",
   "execution_count": null,
   "id": "d67d6306",
   "metadata": {},
   "outputs": [],
   "source": [
    "int_types = np.array(InteractionFingerprint().interaction_types)"
   ]
  },
  {
   "cell_type": "code",
   "execution_count": null,
   "id": "fa80f728",
   "metadata": {},
   "outputs": [],
   "source": [
    "int_types"
   ]
  },
  {
   "cell_type": "code",
   "execution_count": null,
   "id": "3c77f53d",
   "metadata": {},
   "outputs": [],
   "source": [
    "np.where(int_types == 'pication')[0][0]"
   ]
  },
  {
   "cell_type": "markdown",
   "id": "ca598315",
   "metadata": {},
   "source": [
    "## zip fingerprints to get by position"
   ]
  },
  {
   "cell_type": "code",
   "execution_count": null,
   "id": "d286ee7a",
   "metadata": {},
   "outputs": [],
   "source": [
    "positions = list(zip(*fingerprints))"
   ]
  },
  {
   "cell_type": "code",
   "execution_count": null,
   "id": "f38df941",
   "metadata": {},
   "outputs": [],
   "source": [
    "np.shape(positions)"
   ]
  },
  {
   "cell_type": "markdown",
   "id": "0f784861",
   "metadata": {},
   "source": [
    "## write function to select specific structures:"
   ]
  },
  {
   "cell_type": "code",
   "execution_count": null,
   "id": "96a438af",
   "metadata": {},
   "outputs": [],
   "source": [
    "def get_structures_from_interaction(resn, interaction_type, positions, int_types, only_return_interactions=True):\n",
    "#     np.where(int_types == 'pication')[0][0]\n",
    "    assert resn > 0, \"resn is the residue number, starting with 1\"\n",
    "    ## this is kinda wacky but it works\n",
    "    idx = (resn-1)*(10)+np.where(int_types == interaction_type)[0][0]\n",
    "    structures = positions[idx]\n",
    "    if only_return_interactions:\n",
    "        filtered_structures = [structure for structure in structures if structure.value > 0]\n",
    "        structures = filtered_structures\n",
    "    return structures"
   ]
  },
  {
   "cell_type": "markdown",
   "id": "be915313",
   "metadata": {},
   "source": [
    "## C145 hbond-don"
   ]
  },
  {
   "cell_type": "code",
   "execution_count": null,
   "id": "00ea27fe",
   "metadata": {},
   "outputs": [],
   "source": [
    "structures_of_interest = get_structures_from_interaction(145, 'hbond-don', positions, int_types)"
   ]
  },
  {
   "cell_type": "code",
   "execution_count": null,
   "id": "c5dd50c3",
   "metadata": {},
   "outputs": [],
   "source": [
    "len(structures_of_interest)"
   ]
  },
  {
   "cell_type": "code",
   "execution_count": null,
   "id": "3fa58e61",
   "metadata": {},
   "outputs": [],
   "source": [
    "fns = [s.label['residue'].structure.identifier for s in structures_of_interest]"
   ]
  },
  {
   "cell_type": "markdown",
   "id": "89351c6c",
   "metadata": {},
   "source": [
    "### save list with yaml"
   ]
  },
  {
   "cell_type": "code",
   "execution_count": null,
   "id": "fa9acebc",
   "metadata": {},
   "outputs": [],
   "source": [
    "with open(output/'C145_structure_examples.yml', 'w') as file:\n",
    "    yaml.dump(fns, file)"
   ]
  },
  {
   "cell_type": "markdown",
   "id": "0c14f1b6",
   "metadata": {},
   "source": [
    "## Get dictionary of examples"
   ]
  },
  {
   "cell_type": "code",
   "execution_count": null,
   "id": "1577cae2",
   "metadata": {},
   "outputs": [],
   "source": [
    "fp.to_dict()"
   ]
  },
  {
   "cell_type": "code",
   "execution_count": null,
   "id": "c20fb178",
   "metadata": {},
   "outputs": [],
   "source": [
    "examples = [(resid, int_type) for int_type, data in fp.to_dict().items() \n",
    "            for resid, value in data.items()\n",
    "            if value > 0]"
   ]
  },
  {
   "cell_type": "code",
   "execution_count": null,
   "id": "c64cbb3c",
   "metadata": {},
   "outputs": [],
   "source": [
    "len(examples)"
   ]
  },
  {
   "cell_type": "markdown",
   "id": "d8ab280a",
   "metadata": {},
   "source": [
    "## iterate through examples"
   ]
  },
  {
   "cell_type": "code",
   "execution_count": null,
   "id": "6155d569",
   "metadata": {},
   "outputs": [],
   "source": [
    "for resid, int_type in tqdm(examples):\n",
    "    structures_of_interest = get_structures_from_interaction(resid, int_type, positions, int_types)\n",
    "    fns = [s.label['residue'].structure.identifier for s in structures_of_interest]\n",
    "    print(resid, int_type, len(fns))\n",
    "    with open(output/f'{resid}_{int_type}_structure_examples.yml', 'w') as file:\n",
    "        yaml.dump(fns, file)"
   ]
  }
 ],
 "metadata": {
  "kernelspec": {
   "display_name": "Python 3 (ipykernel)",
   "language": "python",
   "name": "python3"
  },
  "language_info": {
   "codemirror_mode": {
    "name": "ipython",
    "version": 3
   },
   "file_extension": ".py",
   "mimetype": "text/x-python",
   "name": "python",
   "nbconvert_exporter": "python",
   "pygments_lexer": "ipython3",
   "version": "3.8.15"
  },
  "toc": {
   "base_numbering": 1,
   "nav_menu": {},
   "number_sections": true,
   "sideBar": true,
   "skip_h1_title": false,
   "title_cell": "Table of Contents",
   "title_sidebar": "Contents",
   "toc_cell": false,
   "toc_position": {
    "height": "calc(100% - 180px)",
    "left": "10px",
    "top": "150px",
    "width": "376px"
   },
   "toc_section_display": true,
   "toc_window_display": true
  }
 },
 "nbformat": 4,
 "nbformat_minor": 5
}
