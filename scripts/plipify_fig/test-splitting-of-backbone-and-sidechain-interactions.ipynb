{
 "cells": [
  {
   "cell_type": "markdown",
   "id": "16c4df1e",
   "metadata": {},
   "source": [
    "# Imports"
   ]
  },
  {
   "cell_type": "code",
   "execution_count": null,
   "id": "4e950fdb",
   "metadata": {},
   "outputs": [],
   "source": [
    "from glob import glob\n",
    "from pathlib import Path\n",
    "import shutil\n",
    "from tqdm import tqdm\n",
    "import os\n",
    "import numpy as np\n",
    "import plotly.express as px\n",
    "\n",
    "from io import BytesIO\n",
    "from zipfile import ZipFile\n",
    "from subprocess import call, STDOUT\n",
    "from urllib.request import urlopen\n",
    "from collections import Counter\n",
    "\n",
    "\n",
    "import requests\n",
    "from matplotlib import cm, colors\n",
    "from IPython.display import Image\n",
    "import pandas as pd\n",
    "from rdkit.Chem.PandasTools import AddMoleculeColumnToFrame\n",
    "from Bio.PDB import PDBParser, PDBIO\n",
    "import nglview as nv\n",
    "\n",
    "from plipify.fingerprints import InteractionFingerprint, _LabeledValue\n",
    "from plipify.visualization import (\n",
    "    fingerprint_barplot, fingerprint_heatmap, fingerprint_table, \n",
    "    fingerprint_nglview, PymolVisualizer, nglview_color_side_chains_by_frequency,\n",
    "    fingerprint_writepdb\n",
    ")\n",
    "from ipywidgets.embed import embed_minimal_html\n",
    "\n",
    "from plipify import core\n",
    "\n",
    "from html2image import Html2Image\n",
    "import imgkit\n",
    "import yaml\n",
    "\n",
    "from importlib import reload"
   ]
  },
  {
   "cell_type": "code",
   "execution_count": null,
   "id": "63f80822",
   "metadata": {},
   "outputs": [],
   "source": [
    "import pickle as pkl"
   ]
  },
  {
   "cell_type": "markdown",
   "id": "dfd788da",
   "metadata": {},
   "source": [
    "## paths"
   ]
  },
  {
   "cell_type": "code",
   "execution_count": null,
   "id": "3c9e881f",
   "metadata": {},
   "outputs": [],
   "source": [
    "pdb = Path(\"/Users/alexpayne/lilac-mount-point/asap-datasets/plipify_prepped_no_header/no_header_Mpro-x11001_0A_bound_chainA_wH.pdb\")\n",
    "residue_indices_path = \"/Volumes/Rohirrim/local_test/plipify_result_melissa_prepped/residue_indices_367.pkl\""
   ]
  },
  {
   "cell_type": "markdown",
   "id": "7e017ace",
   "metadata": {},
   "source": [
    "# Load Structures"
   ]
  },
  {
   "cell_type": "markdown",
   "id": "0095075b",
   "metadata": {},
   "source": [
    "## add custom structure object"
   ]
  },
  {
   "cell_type": "code",
   "execution_count": null,
   "id": "f224ca1a",
   "metadata": {},
   "outputs": [],
   "source": [
    "reload(core)\n",
    "pdb = Path(\"/Users/alexpayne/lilac-mount-point/asap-datasets/plipify_prepped_no_header/no_header_Mpro-x11001_0A_bound_chainA_wH.pdb\")\n",
    "structure = core.Structure.from_pdbfile(str(pdb), ligand_name=\"LIG\")"
   ]
  },
  {
   "cell_type": "code",
   "execution_count": null,
   "id": "8d01c9d4",
   "metadata": {},
   "outputs": [],
   "source": [
    "interaction_dict = core.Structure.from_pdbfile(str(pdb), ligand_name=\"LIG\")"
   ]
  },
  {
   "cell_type": "code",
   "execution_count": null,
   "id": "56e4180b",
   "metadata": {},
   "outputs": [],
   "source": [
    "interaction_dict"
   ]
  },
  {
   "cell_type": "code",
   "execution_count": null,
   "id": "06559fe9",
   "metadata": {},
   "outputs": [],
   "source": [
    "BACKBONE_ATOM_NAMES = ['N', 'H', 'CA', 'HA', 'C', 'O']"
   ]
  },
  {
   "cell_type": "code",
   "execution_count": null,
   "id": "4a300023",
   "metadata": {},
   "outputs": [],
   "source": [
    "def is_backbone_interaction(interaction_dict):\n",
    "    if interaction_dict.get('SIDECHAIN', False):\n",
    "        return False\n",
    "    else:\n",
    "        return True"
   ]
  },
  {
   "cell_type": "code",
   "execution_count": null,
   "id": "690a751c",
   "metadata": {},
   "outputs": [],
   "source": [
    "is_backbone_interaction(interaction_dict)"
   ]
  },
  {
   "cell_type": "code",
   "execution_count": null,
   "id": "3c762daf",
   "metadata": {},
   "outputs": [],
   "source": [
    "residue = structure.get_residue_by(144)"
   ]
  },
  {
   "cell_type": "code",
   "execution_count": null,
   "id": "c27e8bae",
   "metadata": {},
   "outputs": [],
   "source": [
    "residue."
   ]
  },
  {
   "cell_type": "markdown",
   "id": "288c730a",
   "metadata": {},
   "source": [
    "## load residue indices"
   ]
  },
  {
   "cell_type": "code",
   "execution_count": null,
   "id": "c474f889",
   "metadata": {},
   "outputs": [],
   "source": [
    "with open(residue_indices_path, 'rb') as handle:\n",
    "    loaded_residue_indices = pkl.load(handle)"
   ]
  },
  {
   "cell_type": "markdown",
   "id": "ec37696b",
   "metadata": {},
   "source": [
    "## structure analysis"
   ]
  },
  {
   "cell_type": "code",
   "execution_count": null,
   "id": "a5bae8df",
   "metadata": {},
   "outputs": [],
   "source": [
    "structure.binding_sites"
   ]
  },
  {
   "cell_type": "code",
   "execution_count": null,
   "id": "feb1023d",
   "metadata": {},
   "outputs": [],
   "source": [
    "def calculate_fingerprint_one_structure(structure, indices, interaction_types, labeled=False):\n",
    "    \"\"\"\n",
    "    Calculate the interaction fingerprint for a single structure.\n",
    "\n",
    "    Parameters\n",
    "    ----------\n",
    "    structure = structure object based on pdb file\n",
    "    indices = list of dict\n",
    "        each dict contains kwargs that match Structure.get_residue_by\n",
    "        so it can return a Residue object. For example:\n",
    "        {\"seq_index\": 1, \"chain\": \"A\"}\n",
    "    \"\"\"\n",
    "    empty_counter = Counter()\n",
    "    fp_length = len(indices) * len(interaction_types)\n",
    "    fingerprint = []\n",
    "    for index_kwargs in indices:\n",
    "        residue = structure.get_residue_by(**index_kwargs)\n",
    "        if residue:\n",
    "            counter = residue.count_interactions()\n",
    "        else:\n",
    "            # FIXME: This is a bit hacky. Let's see if we can\n",
    "            # come up with something more elegant.\n",
    "            residue = ProteinResidue(\"GAP\", 0, None)\n",
    "            counter = empty_counter\n",
    "        for interaction in interaction_types:\n",
    "            if labeled:\n",
    "                label = {\"residue\": residue, \"type\": interaction}\n",
    "                n_interactions = _LabeledValue(counter[interaction], label=label)\n",
    "            else:\n",
    "                n_interactions = counter[interaction]\n",
    "            fingerprint.append(n_interactions)\n",
    "    assert len(fingerprint) == fp_length, \"Expected length not matched\"\n",
    "    if not labeled:\n",
    "        return np.asarray(fingerprint)\n",
    "    return fingerprint"
   ]
  },
  {
   "cell_type": "code",
   "execution_count": null,
   "id": "3f3dc95c",
   "metadata": {},
   "outputs": [],
   "source": [
    "residue = structure.get_residue_by(144)\n",
    "interaction_types = InteractionFingerprint().interaction_types\n",
    "labeled = True\n",
    "fingerprint = []\n",
    "if residue:\n",
    "    counter = residue.count_interactions()\n",
    "    interaction_location = [interaction.interaction.get('SIDECHAIN', None) for interaction in residue.interactions]\n",
    "    print(counter)\n",
    "    print(Counter(interaction_location))\n",
    "for interaction in interaction_types:\n",
    "    if labeled:\n",
    "        label = {\"residue\": residue, \"type\": interaction}\n",
    "        n_interactions = _LabeledValue(counter[interaction], label=label)\n",
    "    else:\n",
    "        n_interactions = counter[interaction]\n",
    "    fingerprint.append(n_interactions)"
   ]
  },
  {
   "cell_type": "code",
   "execution_count": null,
   "id": "2083c78e",
   "metadata": {},
   "outputs": [],
   "source": [
    "def count_interactions(residue):\n",
    "#     interaction_types = [interaction.shorthand for interaction in residue.interactions]\n",
    "    interaction_types = []\n",
    "    bb_interaction_types = []\n",
    "    sc_interaction_types = []\n",
    "    for interaction in residue.interactions:\n",
    "        interaction_types.append(interaction.shorthand)\n",
    "        if interaction.interaction.get('SIDECHAIN', 'not_found') == 'not_found':\n",
    "            raise NotImplementedError\n",
    "        else:\n",
    "            sidechain = interaction.interaction.get('SIDECHAIN', False)\n",
    "        if sidechain:\n",
    "            sc_interaction_types.append(interaction.shorthand)\n",
    "        else:\n",
    "            bb_interaction_types.append(interaction.shorthand)\n",
    "    counter = Counter(zip(interaction_types, interaction_location))\n",
    "    return counter"
   ]
  },
  {
   "cell_type": "code",
   "execution_count": null,
   "id": "cf5ed7ee",
   "metadata": {},
   "outputs": [],
   "source": [
    "interaction_types = []\n",
    "bb_interaction_types = []\n",
    "sc_interaction_types = []\n",
    "for interaction in residue.interactions:\n",
    "    interaction_types.append(interaction.shorthand)\n",
    "    if interaction.interaction.get('SIDECHAIN', 'not_found') == 'not_found':\n",
    "        raise NotImplementedError\n",
    "    else:\n",
    "        sidechain = interaction.interaction.get('SIDECHAIN', False)\n",
    "    if sidechain:\n",
    "        sc_interaction_types.append(interaction.shorthand)\n",
    "    else:\n",
    "        bb_interaction_types.append(interaction.shorthand)\n",
    "    "
   ]
  },
  {
   "cell_type": "markdown",
   "id": "d5ba6451",
   "metadata": {},
   "source": [
    "# Test different examples"
   ]
  },
  {
   "cell_type": "code",
   "execution_count": null,
   "id": "4275ccc9",
   "metadata": {},
   "outputs": [],
   "source": [
    "def add_sidechain_boolean(structure, interaction_dict):\n",
    "    if interaction_dict.get(\"SIDECHAIN\", 'not_found') != \"not_found\":\n",
    "        pass\n",
    "    elif interaction_dict.get('PROT_IDX_LIST', 'not_found') != \"not_found\":\n",
    "        for idx in interaction_dict.get('PROT_IDX_LIST').split(','):\n",
    "            ## This should be True if any atoms are in the sidechain, so we can quit as soon as we find one\n",
    "            if not structure._pdbcomplex.atoms[int(idx)].type in BACKBONE_ATOM_NAMES:\n",
    "                interaction_dict['SIDECHAIN'] = True\n",
    "                break\n",
    "            else:\n",
    "                interaction_dict['SIDECHAIN'] = False\n",
    "    elif interaction_dict.get(\"PROTCARBONIDX\", \"not_found\") != \"not_found\":\n",
    "        idx = int(interaction_dict.get(\"PROTCARBONIDX\"))\n",
    "        interaction_dict['SIDECHAIN'] = structure._pdbcomplex.atoms[idx].type not in BACKBONE_ATOM_NAMES\n",
    "    else:\n",
    "        raise NotImplementedError\n",
    "    return interaction_dict"
   ]
  },
  {
   "cell_type": "markdown",
   "id": "5653983b",
   "metadata": {},
   "source": [
    "## hbond-don and hbond-acc"
   ]
  },
  {
   "cell_type": "code",
   "execution_count": null,
   "id": "a0f4e459",
   "metadata": {},
   "outputs": [],
   "source": [
    "reload(core)\n",
    "pdb = Path(\"/Users/alexpayne/lilac-mount-point/asap-datasets/plipify_prepped_no_header/no_header_Mpro-x2659_0A_bound_chainA_wH.pdb\")\n",
    "structure = core.Structure.from_pdbfile(str(pdb), ligand_name=\"LIG\")"
   ]
  },
  {
   "cell_type": "code",
   "execution_count": null,
   "id": "ad6f7659",
   "metadata": {},
   "outputs": [],
   "source": [
    "binding_site = structure.binding_sites[0]\n",
    "for int_type, interactions in binding_site.interactions.items():\n",
    "    print(\"\\n\", int_type, \"\\n\")\n",
    "    for interaction in interactions:\n",
    "        print(interaction.interaction)\n",
    "        print(add_sidechain_boolean(structure, interaction.interaction))"
   ]
  },
  {
   "cell_type": "code",
   "execution_count": null,
   "id": "fd4df259",
   "metadata": {},
   "outputs": [],
   "source": [
    "structure._pdbcomplex.atoms[1347]"
   ]
  },
  {
   "cell_type": "code",
   "execution_count": null,
   "id": "45942b5c",
   "metadata": {},
   "outputs": [],
   "source": []
  },
  {
   "cell_type": "code",
   "execution_count": null,
   "id": "c0d27d76",
   "metadata": {},
   "outputs": [],
   "source": [
    " binding_site.interactions"
   ]
  },
  {
   "cell_type": "code",
   "execution_count": null,
   "id": "740bec84",
   "metadata": {},
   "outputs": [],
   "source": [
    "for atom in structure._pdbcomplex.atoms[2220].residue.atoms:\n",
    "    print(atom.type, atom.idx, atom.residue.idx)"
   ]
  },
  {
   "cell_type": "code",
   "execution_count": null,
   "id": "bd8286e4",
   "metadata": {},
   "outputs": [],
   "source": []
  },
  {
   "cell_type": "code",
   "execution_count": null,
   "id": "8bb40e26",
   "metadata": {},
   "outputs": [],
   "source": [
    "interaction_types"
   ]
  },
  {
   "cell_type": "code",
   "execution_count": null,
   "id": "6840605e",
   "metadata": {},
   "outputs": [],
   "source": [
    "bb_interaction_types"
   ]
  },
  {
   "cell_type": "code",
   "execution_count": null,
   "id": "c8b72822",
   "metadata": {},
   "outputs": [],
   "source": [
    "sc_interaction_types"
   ]
  },
  {
   "cell_type": "code",
   "execution_count": null,
   "id": "d1e4071d",
   "metadata": {},
   "outputs": [],
   "source": [
    "count_interactions(residue)"
   ]
  },
  {
   "cell_type": "code",
   "execution_count": null,
   "id": "3afd83cf",
   "metadata": {},
   "outputs": [],
   "source": [
    "interaction.interaction.get('SIDECHAIN')"
   ]
  },
  {
   "cell_type": "code",
   "execution_count": null,
   "id": "ad1e735e",
   "metadata": {},
   "outputs": [],
   "source": [
    "interaction.interaction"
   ]
  },
  {
   "cell_type": "code",
   "execution_count": null,
   "id": "c51f73cf",
   "metadata": {},
   "outputs": [],
   "source": [
    "interaction = residue.interactions[0]"
   ]
  },
  {
   "cell_type": "code",
   "execution_count": null,
   "id": "836ef222",
   "metadata": {},
   "outputs": [],
   "source": [
    "interaction.interaction"
   ]
  },
  {
   "cell_type": "code",
   "execution_count": null,
   "id": "d16f1bee",
   "metadata": {},
   "outputs": [],
   "source": []
  },
  {
   "cell_type": "code",
   "execution_count": null,
   "id": "0f2fb2f7",
   "metadata": {},
   "outputs": [],
   "source": [
    "for interaction in residue.interactions:\n",
    "    print(interaction.shorthand)"
   ]
  },
  {
   "cell_type": "code",
   "execution_count": null,
   "id": "ec3185e3",
   "metadata": {},
   "outputs": [],
   "source": [
    "fingerprint"
   ]
  },
  {
   "cell_type": "code",
   "execution_count": null,
   "id": "15377a64",
   "metadata": {},
   "outputs": [],
   "source": [
    "fp = calculate_fingerprint_one_structure(structure, loaded_residue_indices[0].values(), InteractionFingerprint().interaction_types, labeled=True)"
   ]
  },
  {
   "cell_type": "code",
   "execution_count": null,
   "id": "12dc2a29",
   "metadata": {},
   "outputs": [],
   "source": [
    "fp"
   ]
  },
  {
   "cell_type": "code",
   "execution_count": null,
   "id": "25662395",
   "metadata": {},
   "outputs": [],
   "source": []
  }
 ],
 "metadata": {
  "kernelspec": {
   "display_name": "Python 3 (ipykernel)",
   "language": "python",
   "name": "python3"
  },
  "language_info": {
   "codemirror_mode": {
    "name": "ipython",
    "version": 3
   },
   "file_extension": ".py",
   "mimetype": "text/x-python",
   "name": "python",
   "nbconvert_exporter": "python",
   "pygments_lexer": "ipython3",
   "version": "3.8.15"
  },
  "toc": {
   "base_numbering": 1,
   "nav_menu": {},
   "number_sections": true,
   "sideBar": true,
   "skip_h1_title": false,
   "title_cell": "Table of Contents",
   "title_sidebar": "Contents",
   "toc_cell": false,
   "toc_position": {
    "height": "calc(100% - 180px)",
    "left": "10px",
    "top": "150px",
    "width": "376px"
   },
   "toc_section_display": true,
   "toc_window_display": true
  }
 },
 "nbformat": 4,
 "nbformat_minor": 5
}
